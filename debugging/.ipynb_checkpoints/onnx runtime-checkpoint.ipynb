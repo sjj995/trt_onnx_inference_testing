{
 "cells": [
  {
   "cell_type": "code",
   "execution_count": 18,
   "id": "cb6e1b76",
   "metadata": {},
   "outputs": [],
   "source": [
    "import onnxruntime\n",
    "import numpy as np\n",
    "import torch\n",
    "session = onnxruntime.InferenceSession(\"/data2/user/sjj995/TensorRT/test/ssd_mobilenet_v1_10.onnx\",providers=['CPUExecutionProvider','CUDAExecutionProvider' ])\n",
    "device = torch.device('cuda:0') if torch.cuda.is_available() else torch.device('cpu')"
   ]
  },
  {
   "cell_type": "code",
   "execution_count": 19,
   "id": "6f72a3de",
   "metadata": {},
   "outputs": [
    {
     "data": {
      "text/plain": [
       "<onnxruntime.capi.onnxruntime_inference_collection.InferenceSession at 0x7f7331b92be0>"
      ]
     },
     "execution_count": 19,
     "metadata": {},
     "output_type": "execute_result"
    }
   ],
   "source": [
    "session"
   ]
  },
  {
   "cell_type": "code",
   "execution_count": 20,
   "id": "71457162",
   "metadata": {},
   "outputs": [
    {
     "data": {
      "text/plain": [
       "<onnxruntime.capi.onnxruntime_pybind11_state.ModelMetadata at 0x7f7265189730>"
      ]
     },
     "execution_count": 20,
     "metadata": {},
     "output_type": "execute_result"
    }
   ],
   "source": [
    "session.get_modelmeta()\n"
   ]
  },
  {
   "cell_type": "code",
   "execution_count": 21,
   "id": "d7c9bbe9",
   "metadata": {},
   "outputs": [
    {
     "data": {
      "text/plain": [
       "['detection_boxes:0',\n",
       " 'detection_classes:0',\n",
       " 'detection_scores:0',\n",
       " 'num_detections:0']"
      ]
     },
     "execution_count": 21,
     "metadata": {},
     "output_type": "execute_result"
    }
   ],
   "source": [
    "[output.name for output in session.get_outputs()]"
   ]
  },
  {
   "cell_type": "code",
   "execution_count": 22,
   "id": "c94b5f48",
   "metadata": {},
   "outputs": [
    {
     "name": "stdout",
     "output_type": "stream",
     "text": [
      "NodeArg(name='image_tensor:0', type='tensor(uint8)', shape=['unk__8520', 'unk__8521', 'unk__8522', 3])\n",
      "tensor(uint8)\n"
     ]
    }
   ],
   "source": [
    "for temp in session.get_inputs():\n",
    "    print(temp)\n",
    "    print(temp.type)"
   ]
  },
  {
   "cell_type": "code",
   "execution_count": 23,
   "id": "c1bd2994",
   "metadata": {},
   "outputs": [
    {
     "name": "stdout",
     "output_type": "stream",
     "text": [
      "NodeArg(name='image_tensor:0', type='tensor(uint8)', shape=['unk__8520', 'unk__8521', 'unk__8522', 3])\n"
     ]
    }
   ],
   "source": [
    "for temp2 in session.get_inputs():\n",
    "    print(temp2)"
   ]
  },
  {
   "cell_type": "code",
   "execution_count": null,
   "id": "a7b9a40a",
   "metadata": {},
   "outputs": [],
   "source": [
    "session2 = onnxruntime.InferenceSession(\"/data2/user/sjj995/TensorRT/onnx_models/bidaf-9.onnx\",providers=['CPUExecutionProvider','CUDAExecutionProvider' ])\n",
    "device = torch.device('cuda:0') if torch.cuda.is_available() else torch.device('cpu')"
   ]
  },
  {
   "cell_type": "code",
   "execution_count": null,
   "id": "cec2c4f4",
   "metadata": {
    "scrolled": true
   },
   "outputs": [],
   "source": [
    "for temp in session2.get_inputs():\n",
    "    print(temp)"
   ]
  },
  {
   "cell_type": "code",
   "execution_count": null,
   "id": "ea08f4f5",
   "metadata": {},
   "outputs": [],
   "source": [
    "import re\n",
    "inputs={}\n",
    "input_shape = []\n",
    "type_catcher = re.compile('\\w+\\((\\w+?)\\)')\n",
    "\n",
    "for temp in session2.get_inputs():\n",
    "    print(temp.type)\n",
    "    print(type_catcher.match(temp.type).group(1))\n",
    "    print(temp.shape)\n",
    "    input_shape.append(temp.shape)\n",
    "    \n",
    "inputs['shape'] = input_shape"
   ]
  },
  {
   "cell_type": "code",
   "execution_count": null,
   "id": "a098cffb",
   "metadata": {},
   "outputs": [],
   "source": [
    "for input_s in inputs['shape']:\n",
    "    print(input_s)\n",
    "    if 'c' in input_s:\n",
    "        print('hello')\n"
   ]
  },
  {
   "cell_type": "code",
   "execution_count": null,
   "id": "42495e9e",
   "metadata": {},
   "outputs": [],
   "source": [
    "len(inputs['shape'])"
   ]
  },
  {
   "cell_type": "code",
   "execution_count": null,
   "id": "f52eea99",
   "metadata": {},
   "outputs": [],
   "source": [
    "# yolo\n",
    "for temp in session2.get_inputs():\n",
    "    print(temp)"
   ]
  },
  {
   "cell_type": "code",
   "execution_count": null,
   "id": "04f6d717",
   "metadata": {},
   "outputs": [],
   "source": [
    "session3 = onnxruntime.InferenceSession(\"/data2/user/sjj995/TensorRT/verified/unsupported/bertsquad-12.onnx\",providers=['CPUExecutionProvider','CUDAExecutionProvider' ])\n",
    "device = torch.device('cuda:0') if torch.cuda.is_available() else torch.device('cpu')"
   ]
  },
  {
   "cell_type": "code",
   "execution_count": null,
   "id": "9cca6f84",
   "metadata": {},
   "outputs": [],
   "source": [
    "for temp in session3.get_inputs():\n",
    "    print(temp)"
   ]
  },
  {
   "cell_type": "code",
   "execution_count": null,
   "id": "21d48584",
   "metadata": {},
   "outputs": [],
   "source": [
    "session4 = onnxruntime.InferenceSession(\"/data2/user/sjj995/TensorRT/verified/unsupported/tiny-yolov3-11.onnx\",providers=['CPUExecutionProvider','CUDAExecutionProvider' ])\n",
    "device = torch.device('cuda:0') if torch.cuda.is_available() else torch.device('cpu')"
   ]
  },
  {
   "cell_type": "code",
   "execution_count": null,
   "id": "d6e0549b",
   "metadata": {},
   "outputs": [],
   "source": [
    "for temp in session4.get_inputs():\n",
    "    print(temp)"
   ]
  },
  {
   "cell_type": "code",
   "execution_count": null,
   "id": "30e32699",
   "metadata": {},
   "outputs": [],
   "source": [
    "len(session.get_inputs()[0].shape)"
   ]
  },
  {
   "cell_type": "code",
   "execution_count": null,
   "id": "d49dcf05",
   "metadata": {},
   "outputs": [],
   "source": [
    "session.get_inputs()[1].shape"
   ]
  },
  {
   "cell_type": "code",
   "execution_count": null,
   "id": "c4ddb899",
   "metadata": {},
   "outputs": [],
   "source": [
    "session.get_overridable_initializers()"
   ]
  },
  {
   "cell_type": "code",
   "execution_count": null,
   "id": "855673b8",
   "metadata": {},
   "outputs": [],
   "source": [
    "session.get_inputs()[0]"
   ]
  },
  {
   "cell_type": "code",
   "execution_count": null,
   "id": "b4dd4d8d",
   "metadata": {},
   "outputs": [],
   "source": [
    "input_shape = session.get_inputs()[0].shape\n",
    "input_shape"
   ]
  },
  {
   "cell_type": "code",
   "execution_count": null,
   "id": "7358553f",
   "metadata": {},
   "outputs": [],
   "source": [
    "for i in range(1,len(input_shape)):\n",
    "    if type(input_shape[i]) == str:\n",
    "        globals()['dim_{}'.format(i)] = 255\n",
    "    else:\n",
    "        globals()['dim_{}'.format(i)] = input_shape[i]"
   ]
  },
  {
   "cell_type": "code",
   "execution_count": null,
   "id": "1ed3c718",
   "metadata": {},
   "outputs": [],
   "source": [
    "dim_1"
   ]
  },
  {
   "cell_type": "code",
   "execution_count": null,
   "id": "e34cb07e",
   "metadata": {},
   "outputs": [],
   "source": [
    "tuple(input_shape)"
   ]
  },
  {
   "cell_type": "code",
   "execution_count": null,
   "id": "3dcaff72",
   "metadata": {},
   "outputs": [],
   "source": [
    "input_shape.explode"
   ]
  },
  {
   "cell_type": "code",
   "execution_count": null,
   "id": "d4d86b2b",
   "metadata": {},
   "outputs": [],
   "source": [
    "type(session.get_inputs()[0].shape[0])"
   ]
  },
  {
   "cell_type": "code",
   "execution_count": null,
   "id": "358d75ee",
   "metadata": {},
   "outputs": [],
   "source": [
    "session.get_inputs()[0].shape[0]"
   ]
  },
  {
   "cell_type": "code",
   "execution_count": null,
   "id": "53272d29",
   "metadata": {},
   "outputs": [],
   "source": [
    "session.get_inputs()[0].shape[1]"
   ]
  },
  {
   "cell_type": "code",
   "execution_count": null,
   "id": "777cb27b",
   "metadata": {},
   "outputs": [],
   "source": [
    "session.get_inputs()[0].shape[2]"
   ]
  },
  {
   "cell_type": "code",
   "execution_count": null,
   "id": "3cbb7071",
   "metadata": {},
   "outputs": [],
   "source": [
    "session.get_inputs()[0].shape[3]"
   ]
  },
  {
   "cell_type": "code",
   "execution_count": null,
   "id": "1c099598",
   "metadata": {},
   "outputs": [],
   "source": [
    "session.get_outputs()[0].shape"
   ]
  },
  {
   "cell_type": "code",
   "execution_count": null,
   "id": "fe28545c",
   "metadata": {},
   "outputs": [],
   "source": [
    "session.get_modelmeta()\n",
    "first_input_name = session.get_inputs()[0].name\n",
    "first_output_name = session.get_outputs()[0].name"
   ]
  },
  {
   "cell_type": "code",
   "execution_count": null,
   "id": "2b545058",
   "metadata": {},
   "outputs": [],
   "source": [
    "first_input_name"
   ]
  },
  {
   "cell_type": "code",
   "execution_count": null,
   "id": "17028d4f",
   "metadata": {},
   "outputs": [],
   "source": [
    "first_output_name"
   ]
  },
  {
   "cell_type": "code",
   "execution_count": null,
   "id": "7b81b389",
   "metadata": {},
   "outputs": [],
   "source": [
    "indata = torch.randn(1,3, 224, 224).to(device)"
   ]
  },
  {
   "cell_type": "code",
   "execution_count": null,
   "id": "8a4627aa",
   "metadata": {},
   "outputs": [],
   "source": [
    "indata\n",
    "X=torch.randn(3, 224, 224)\n",
    "print(X)"
   ]
  },
  {
   "cell_type": "code",
   "execution_count": null,
   "id": "9496bd2d",
   "metadata": {},
   "outputs": [],
   "source": [
    "# results = session.run([\"output1\", \"output2\"], {\n",
    "#                       \"input1\": indata1, \"input2\": indata2})\n",
    "\n",
    "results = session.run(None, {'input':to_numpy(indata)})\n",
    "results"
   ]
  },
  {
   "cell_type": "code",
   "execution_count": null,
   "id": "684daf0d",
   "metadata": {},
   "outputs": [],
   "source": [
    "import onnx\n",
    "\n",
    "\n",
    "onnx_model = onnx.load(\"/datadrive/tensorrt/onnx_models/mobilenetv2-12.onnx\")\n",
    "onnx.checker.check_model(onnx_model)"
   ]
  },
  {
   "cell_type": "code",
   "execution_count": null,
   "id": "053db0a7",
   "metadata": {
    "scrolled": false
   },
   "outputs": [],
   "source": [
    "import torch\n",
    "import onnxruntime\n",
    "import numpy\n",
    "#tiny-yolov3-11.onnx\n",
    "ort_session = onnxruntime.InferenceSession(\"/data2/user/sjj995/TensorRT/onnx_models/yolov3-12.onnx\",providers=['CPUExecutionProvider','CUDAExecutionProvider' ])\n",
    "\n",
    "\n",
    "def to_numpy(tensor):\n",
    "    return tensor.detach().cpu().numpy() if tensor.requires_grad else tensor.cpu().numpy()\n",
    "\n",
    "# compute ONNX Runtime output prediction\n",
    "x = torch.randn(1,3, 128,128).to(device)\n",
    "x2 = torch.randn(1,2).to(device)\n",
    "print(x2)\n",
    "#x2 = torch.tensor([[460.,  840.]]).to(device)\n",
    "ort_inputs = {ort_session.get_inputs()[0].name: to_numpy(x),ort_session.get_inputs()[1].name: to_numpy(x2)}\n",
    "outname = [output.name for output in ort_session.get_outputs()]\n",
    "#print(ort_inputs)\n",
    "#print(outname)\n",
    "ort_outs = ort_session.run(outname,ort_inputs)\n",
    "\n",
    "# compare ONNX Runtime and PyTorch results\n",
    "# np.testing.assert_allclose(to_numpy(torch_out), ort_outs[0], rtol=1e-03, atol=1e-05)\n",
    "\n",
    "#print(\"Exported model has been tested with ONNXRuntime, and the result looks good!\")\n",
    "#print((ort_outs))\n",
    "print((ort_outs[0].shape))\n",
    "print((ort_outs[1].shape))\n",
    "print((ort_outs[2].shape))\n",
    "print((ort_outs[2]))"
   ]
  },
  {
   "cell_type": "code",
   "execution_count": null,
   "id": "ea9c15c2",
   "metadata": {},
   "outputs": [],
   "source": [
    "len(ort_outs)"
   ]
  },
  {
   "cell_type": "code",
   "execution_count": null,
   "id": "a7f5eb95",
   "metadata": {},
   "outputs": [],
   "source": [
    "import time\n",
    "import onnxruntime\n",
    "import numpy as np\n",
    "from PIL import Image\n",
    "\n",
    "session = onnxruntime.InferenceSession(\"/data2/user/sjj995/TensorRT/onnx_models/yolov3-12.onnx\")\n",
    "inname = [input.name for input in session.get_inputs()]\n",
    "outname = [output.name for output in session.get_outputs()]\n",
    "\n",
    "def letterbox_image(image, size):\n",
    "    iw, ih = image.size\n",
    "    w, h = size\n",
    "    scale = min(w/iw, h/ih)\n",
    "    nw = int(iw*scale)\n",
    "    nh = int(ih*scale)\n",
    "\n",
    "    image = image.resize((nw,nh), Image.BICUBIC)\n",
    "    new_image = Image.new('RGB', size, (128,128,128))\n",
    "    new_image.paste(image, ((w-nw)//2, (h-nh)//2))\n",
    "    return new_image\n",
    "\n",
    "def preprocess(img):\n",
    "    model_image_size = (416, 416)\n",
    "    boxed_image = letterbox_image(img, tuple(reversed(model_image_size)))\n",
    "    image_data = np.array(boxed_image, dtype='float32')\n",
    "    image_data /= 255.\n",
    "    image_data = np.transpose(image_data, [2, 0, 1])\n",
    "    image_data = np.expand_dims(image_data, 0)\n",
    "    return image_data\n",
    "\n",
    "def get_prediction(image_data, image_size):\n",
    "    input = {\n",
    "        inname[0]: image_data,\n",
    "        inname[1]: image_size\n",
    "    }\n",
    "    t0 = time.time()\n",
    "    boxes, scores, indices = session.run(outname, input)\n",
    "    print(\"Predict Time: %ss\" % (time.time() - t0))\n",
    "    out_boxes, out_scores, out_classes = [], [], []\n",
    "    print(boxes.shape)\n",
    "    print(indices)\n",
    "    print(indices.shape)\n",
    "    for idx_ in indices:\n",
    "        out_classes.append(idx_[1])\n",
    "        out_scores.append(scores[tuple(idx_)])\n",
    "        idx_1 = (idx_[0], idx_[2])\n",
    "        out_boxes.append(boxes[idx_1])\n",
    "    return out_boxes, out_scores, out_classes\n",
    "\n",
    "label =[\"person\",\"bicycle\",\"car\",\"motorbike\",\"aeroplane\",\"bus\",\"train\",\"truck\",\"boat\",\n",
    "    \"traffic light\",\"fire hydrant\",\"stop sign\",\"parking meter\",\"bench\",\"bird\",\"cat\",\n",
    "    \"dog\",\"horse\",\"sheep\",\"cow\",\"elephant\",\"bear\",\"zebra\",\"giraffe\",\"backpack\",\"umbrella\",\n",
    "    \"handbag\",\"tie\",\"suitcase\",\"frisbee\",\"skis\",\"snowboard\",\"sports ball\",\"kite\",\"baseball bat\",\n",
    "    \"baseball glove\",\"skateboard\",\"surfboard\",\"tennis racket\",\"bottle\",\"wine glass\",\"cup\",\"fork\",\n",
    "    \"knife\",\"spoon\",\"bowl\",\"banana\",\"apple\",\"sandwich\",\"orange\",\"broccoli\",\"carrot\",\"hot dog\",\n",
    "    \"pizza\",\"donut\",\"cake\",\"chair\",\"sofa\",\"pottedplant\",\"bed\",\"diningtable\",\"toilet\",\"tvmonitor\",\n",
    "    \"laptop\",\"mouse\",\"remote\",\"keyboard\",\"cell phone\",\"microwave\",\"oven\",\"toaster\",\"sink\",\n",
    "    \"refrigerator\",\"book\",\"clock\",\"vase\",\"scissors\",\"teddy bear\",\"hair drier\",\"toothbrush\"]\n",
    "\n",
    "image = Image.open(\"/data2/user/sjj995/TensorRT/person.jpg\")\n",
    "image_data = preprocess(image)\n",
    "image_size = np.array([image.size[1], image.size[0]], dtype=np.float32).reshape(1, 2)\n",
    "out_boxes, out_scores, out_classes = get_prediction(image_data, image_size)\n",
    "out_boxes = np.array(out_boxes).tolist()\n",
    "out_scores = np.array(out_scores).tolist()\n",
    "out_classes = np.array(out_classes).tolist()\n",
    "\n",
    "for i, c in reversed(list(enumerate(out_classes))):\n",
    "    print(\"box:\", out_boxes[i])\n",
    "    print(\"score:\", out_scores[i],\",\", label[c])"
   ]
  },
  {
   "cell_type": "markdown",
   "id": "c2eb1297",
   "metadata": {},
   "source": [
    "BiDAF"
   ]
  },
  {
   "cell_type": "code",
   "execution_count": 1,
   "id": "2a439125",
   "metadata": {},
   "outputs": [
    {
     "ename": "LookupError",
     "evalue": "\n**********************************************************************\n  Resource \u001b[93mpunkt\u001b[0m not found.\n  Please use the NLTK Downloader to obtain the resource:\n\n  \u001b[31m>>> import nltk\n  >>> nltk.download('punkt')\n  \u001b[0m\n  For more information see: https://www.nltk.org/data.html\n\n  Attempted to load \u001b[93mtokenizers/punkt/PY3/english.pickle\u001b[0m\n\n  Searched in:\n    - '/home/trtuser/nltk_data'\n    - '/usr/nltk_data'\n    - '/usr/share/nltk_data'\n    - '/usr/lib/nltk_data'\n    - '/usr/share/nltk_data'\n    - '/usr/local/share/nltk_data'\n    - '/usr/lib/nltk_data'\n    - '/usr/local/lib/nltk_data'\n    - ''\n**********************************************************************\n",
     "output_type": "error",
     "traceback": [
      "\u001b[0;31m---------------------------------------------------------------------------\u001b[0m",
      "\u001b[0;31mLookupError\u001b[0m                               Traceback (most recent call last)",
      "Input \u001b[0;32mIn [1]\u001b[0m, in \u001b[0;36m<cell line: 18>\u001b[0;34m()\u001b[0m\n\u001b[1;32m     16\u001b[0m context \u001b[38;5;241m=\u001b[39m \u001b[38;5;124m'\u001b[39m\u001b[38;5;124mA quick brown fox jumps over the lazy dog.\u001b[39m\u001b[38;5;124m'\u001b[39m\n\u001b[1;32m     17\u001b[0m query \u001b[38;5;241m=\u001b[39m \u001b[38;5;124m'\u001b[39m\u001b[38;5;124mWhat color is the fox?\u001b[39m\u001b[38;5;124m'\u001b[39m\n\u001b[0;32m---> 18\u001b[0m cw, cc \u001b[38;5;241m=\u001b[39m \u001b[43mpreprocess\u001b[49m\u001b[43m(\u001b[49m\u001b[43mcontext\u001b[49m\u001b[43m)\u001b[49m\n\u001b[1;32m     19\u001b[0m qw, qc \u001b[38;5;241m=\u001b[39m preprocess(query)\n",
      "Input \u001b[0;32mIn [1]\u001b[0m, in \u001b[0;36mpreprocess\u001b[0;34m(text)\u001b[0m\n\u001b[1;32m      5\u001b[0m \u001b[38;5;28;01mdef\u001b[39;00m \u001b[38;5;21mpreprocess\u001b[39m(text):\n\u001b[0;32m----> 6\u001b[0m    tokens \u001b[38;5;241m=\u001b[39m \u001b[43mword_tokenize\u001b[49m\u001b[43m(\u001b[49m\u001b[43mtext\u001b[49m\u001b[43m)\u001b[49m\n\u001b[1;32m      7\u001b[0m    \u001b[38;5;66;03m# split into lower-case word tokens, in numpy array with shape of (seq, 1)\u001b[39;00m\n\u001b[1;32m      8\u001b[0m    words \u001b[38;5;241m=\u001b[39m np\u001b[38;5;241m.\u001b[39masarray([w\u001b[38;5;241m.\u001b[39mlower() \u001b[38;5;28;01mfor\u001b[39;00m w \u001b[38;5;129;01min\u001b[39;00m tokens])\u001b[38;5;241m.\u001b[39mreshape(\u001b[38;5;241m-\u001b[39m\u001b[38;5;241m1\u001b[39m, \u001b[38;5;241m1\u001b[39m)\n",
      "File \u001b[0;32m/usr/local/lib/python3.8/dist-packages/nltk/tokenize/__init__.py:129\u001b[0m, in \u001b[0;36mword_tokenize\u001b[0;34m(text, language, preserve_line)\u001b[0m\n\u001b[1;32m    114\u001b[0m \u001b[38;5;28;01mdef\u001b[39;00m \u001b[38;5;21mword_tokenize\u001b[39m(text, language\u001b[38;5;241m=\u001b[39m\u001b[38;5;124m\"\u001b[39m\u001b[38;5;124menglish\u001b[39m\u001b[38;5;124m\"\u001b[39m, preserve_line\u001b[38;5;241m=\u001b[39m\u001b[38;5;28;01mFalse\u001b[39;00m):\n\u001b[1;32m    115\u001b[0m     \u001b[38;5;124;03m\"\"\"\u001b[39;00m\n\u001b[1;32m    116\u001b[0m \u001b[38;5;124;03m    Return a tokenized copy of *text*,\u001b[39;00m\n\u001b[1;32m    117\u001b[0m \u001b[38;5;124;03m    using NLTK's recommended word tokenizer\u001b[39;00m\n\u001b[0;32m   (...)\u001b[0m\n\u001b[1;32m    127\u001b[0m \u001b[38;5;124;03m    :type preserve_line: bool\u001b[39;00m\n\u001b[1;32m    128\u001b[0m \u001b[38;5;124;03m    \"\"\"\u001b[39;00m\n\u001b[0;32m--> 129\u001b[0m     sentences \u001b[38;5;241m=\u001b[39m [text] \u001b[38;5;28;01mif\u001b[39;00m preserve_line \u001b[38;5;28;01melse\u001b[39;00m \u001b[43msent_tokenize\u001b[49m\u001b[43m(\u001b[49m\u001b[43mtext\u001b[49m\u001b[43m,\u001b[49m\u001b[43m \u001b[49m\u001b[43mlanguage\u001b[49m\u001b[43m)\u001b[49m\n\u001b[1;32m    130\u001b[0m     \u001b[38;5;28;01mreturn\u001b[39;00m [\n\u001b[1;32m    131\u001b[0m         token \u001b[38;5;28;01mfor\u001b[39;00m sent \u001b[38;5;129;01min\u001b[39;00m sentences \u001b[38;5;28;01mfor\u001b[39;00m token \u001b[38;5;129;01min\u001b[39;00m _treebank_word_tokenizer\u001b[38;5;241m.\u001b[39mtokenize(sent)\n\u001b[1;32m    132\u001b[0m     ]\n",
      "File \u001b[0;32m/usr/local/lib/python3.8/dist-packages/nltk/tokenize/__init__.py:106\u001b[0m, in \u001b[0;36msent_tokenize\u001b[0;34m(text, language)\u001b[0m\n\u001b[1;32m     96\u001b[0m \u001b[38;5;28;01mdef\u001b[39;00m \u001b[38;5;21msent_tokenize\u001b[39m(text, language\u001b[38;5;241m=\u001b[39m\u001b[38;5;124m\"\u001b[39m\u001b[38;5;124menglish\u001b[39m\u001b[38;5;124m\"\u001b[39m):\n\u001b[1;32m     97\u001b[0m     \u001b[38;5;124;03m\"\"\"\u001b[39;00m\n\u001b[1;32m     98\u001b[0m \u001b[38;5;124;03m    Return a sentence-tokenized copy of *text*,\u001b[39;00m\n\u001b[1;32m     99\u001b[0m \u001b[38;5;124;03m    using NLTK's recommended sentence tokenizer\u001b[39;00m\n\u001b[0;32m   (...)\u001b[0m\n\u001b[1;32m    104\u001b[0m \u001b[38;5;124;03m    :param language: the model name in the Punkt corpus\u001b[39;00m\n\u001b[1;32m    105\u001b[0m \u001b[38;5;124;03m    \"\"\"\u001b[39;00m\n\u001b[0;32m--> 106\u001b[0m     tokenizer \u001b[38;5;241m=\u001b[39m \u001b[43mload\u001b[49m\u001b[43m(\u001b[49m\u001b[38;5;124;43mf\u001b[39;49m\u001b[38;5;124;43m\"\u001b[39;49m\u001b[38;5;124;43mtokenizers/punkt/\u001b[39;49m\u001b[38;5;132;43;01m{\u001b[39;49;00m\u001b[43mlanguage\u001b[49m\u001b[38;5;132;43;01m}\u001b[39;49;00m\u001b[38;5;124;43m.pickle\u001b[39;49m\u001b[38;5;124;43m\"\u001b[39;49m\u001b[43m)\u001b[49m\n\u001b[1;32m    107\u001b[0m     \u001b[38;5;28;01mreturn\u001b[39;00m tokenizer\u001b[38;5;241m.\u001b[39mtokenize(text)\n",
      "File \u001b[0;32m/usr/local/lib/python3.8/dist-packages/nltk/data.py:750\u001b[0m, in \u001b[0;36mload\u001b[0;34m(resource_url, format, cache, verbose, logic_parser, fstruct_reader, encoding)\u001b[0m\n\u001b[1;32m    747\u001b[0m     \u001b[38;5;28mprint\u001b[39m(\u001b[38;5;124mf\u001b[39m\u001b[38;5;124m\"\u001b[39m\u001b[38;5;124m<<Loading \u001b[39m\u001b[38;5;132;01m{\u001b[39;00mresource_url\u001b[38;5;132;01m}\u001b[39;00m\u001b[38;5;124m>>\u001b[39m\u001b[38;5;124m\"\u001b[39m)\n\u001b[1;32m    749\u001b[0m \u001b[38;5;66;03m# Load the resource.\u001b[39;00m\n\u001b[0;32m--> 750\u001b[0m opened_resource \u001b[38;5;241m=\u001b[39m \u001b[43m_open\u001b[49m\u001b[43m(\u001b[49m\u001b[43mresource_url\u001b[49m\u001b[43m)\u001b[49m\n\u001b[1;32m    752\u001b[0m \u001b[38;5;28;01mif\u001b[39;00m \u001b[38;5;28mformat\u001b[39m \u001b[38;5;241m==\u001b[39m \u001b[38;5;124m\"\u001b[39m\u001b[38;5;124mraw\u001b[39m\u001b[38;5;124m\"\u001b[39m:\n\u001b[1;32m    753\u001b[0m     resource_val \u001b[38;5;241m=\u001b[39m opened_resource\u001b[38;5;241m.\u001b[39mread()\n",
      "File \u001b[0;32m/usr/local/lib/python3.8/dist-packages/nltk/data.py:876\u001b[0m, in \u001b[0;36m_open\u001b[0;34m(resource_url)\u001b[0m\n\u001b[1;32m    873\u001b[0m protocol, path_ \u001b[38;5;241m=\u001b[39m split_resource_url(resource_url)\n\u001b[1;32m    875\u001b[0m \u001b[38;5;28;01mif\u001b[39;00m protocol \u001b[38;5;129;01mis\u001b[39;00m \u001b[38;5;28;01mNone\u001b[39;00m \u001b[38;5;129;01mor\u001b[39;00m protocol\u001b[38;5;241m.\u001b[39mlower() \u001b[38;5;241m==\u001b[39m \u001b[38;5;124m\"\u001b[39m\u001b[38;5;124mnltk\u001b[39m\u001b[38;5;124m\"\u001b[39m:\n\u001b[0;32m--> 876\u001b[0m     \u001b[38;5;28;01mreturn\u001b[39;00m \u001b[43mfind\u001b[49m\u001b[43m(\u001b[49m\u001b[43mpath_\u001b[49m\u001b[43m,\u001b[49m\u001b[43m \u001b[49m\u001b[43mpath\u001b[49m\u001b[43m \u001b[49m\u001b[38;5;241;43m+\u001b[39;49m\u001b[43m \u001b[49m\u001b[43m[\u001b[49m\u001b[38;5;124;43m\"\u001b[39;49m\u001b[38;5;124;43m\"\u001b[39;49m\u001b[43m]\u001b[49m\u001b[43m)\u001b[49m\u001b[38;5;241m.\u001b[39mopen()\n\u001b[1;32m    877\u001b[0m \u001b[38;5;28;01melif\u001b[39;00m protocol\u001b[38;5;241m.\u001b[39mlower() \u001b[38;5;241m==\u001b[39m \u001b[38;5;124m\"\u001b[39m\u001b[38;5;124mfile\u001b[39m\u001b[38;5;124m\"\u001b[39m:\n\u001b[1;32m    878\u001b[0m     \u001b[38;5;66;03m# urllib might not use mode='rb', so handle this one ourselves:\u001b[39;00m\n\u001b[1;32m    879\u001b[0m     \u001b[38;5;28;01mreturn\u001b[39;00m find(path_, [\u001b[38;5;124m\"\u001b[39m\u001b[38;5;124m\"\u001b[39m])\u001b[38;5;241m.\u001b[39mopen()\n",
      "File \u001b[0;32m/usr/local/lib/python3.8/dist-packages/nltk/data.py:583\u001b[0m, in \u001b[0;36mfind\u001b[0;34m(resource_name, paths)\u001b[0m\n\u001b[1;32m    581\u001b[0m sep \u001b[38;5;241m=\u001b[39m \u001b[38;5;124m\"\u001b[39m\u001b[38;5;124m*\u001b[39m\u001b[38;5;124m\"\u001b[39m \u001b[38;5;241m*\u001b[39m \u001b[38;5;241m70\u001b[39m\n\u001b[1;32m    582\u001b[0m resource_not_found \u001b[38;5;241m=\u001b[39m \u001b[38;5;124mf\u001b[39m\u001b[38;5;124m\"\u001b[39m\u001b[38;5;130;01m\\n\u001b[39;00m\u001b[38;5;132;01m{\u001b[39;00msep\u001b[38;5;132;01m}\u001b[39;00m\u001b[38;5;130;01m\\n\u001b[39;00m\u001b[38;5;132;01m{\u001b[39;00mmsg\u001b[38;5;132;01m}\u001b[39;00m\u001b[38;5;130;01m\\n\u001b[39;00m\u001b[38;5;132;01m{\u001b[39;00msep\u001b[38;5;132;01m}\u001b[39;00m\u001b[38;5;130;01m\\n\u001b[39;00m\u001b[38;5;124m\"\u001b[39m\n\u001b[0;32m--> 583\u001b[0m \u001b[38;5;28;01mraise\u001b[39;00m \u001b[38;5;167;01mLookupError\u001b[39;00m(resource_not_found)\n",
      "\u001b[0;31mLookupError\u001b[0m: \n**********************************************************************\n  Resource \u001b[93mpunkt\u001b[0m not found.\n  Please use the NLTK Downloader to obtain the resource:\n\n  \u001b[31m>>> import nltk\n  >>> nltk.download('punkt')\n  \u001b[0m\n  For more information see: https://www.nltk.org/data.html\n\n  Attempted to load \u001b[93mtokenizers/punkt/PY3/english.pickle\u001b[0m\n\n  Searched in:\n    - '/home/trtuser/nltk_data'\n    - '/usr/nltk_data'\n    - '/usr/share/nltk_data'\n    - '/usr/lib/nltk_data'\n    - '/usr/share/nltk_data'\n    - '/usr/local/share/nltk_data'\n    - '/usr/lib/nltk_data'\n    - '/usr/local/lib/nltk_data'\n    - ''\n**********************************************************************\n"
     ]
    }
   ],
   "source": [
    "import numpy as np\n",
    "import string\n",
    "from nltk import word_tokenize\n",
    "\n",
    "def preprocess(text):\n",
    "   tokens = word_tokenize(text)\n",
    "   # split into lower-case word tokens, in numpy array with shape of (seq, 1)\n",
    "   words = np.asarray([w.lower() for w in tokens]).reshape(-1, 1)\n",
    "   # split words into chars, in numpy array with shape of (seq, 1, 1, 16)\n",
    "   chars = [[c for c in t][:16] for t in tokens]\n",
    "   chars = [cs+['']*(16-len(cs)) for cs in chars]\n",
    "   chars = np.asarray(chars).reshape(-1, 1, 1, 16)\n",
    "   return words, chars\n",
    "\n",
    "# input\n",
    "context = 'A quick brown fox jumps over the lazy dog.'\n",
    "query = 'What color is the fox?'\n",
    "cw, cc = preprocess(context)\n",
    "qw, qc = preprocess(query)"
   ]
  },
  {
   "cell_type": "code",
   "execution_count": 24,
   "id": "35079449",
   "metadata": {},
   "outputs": [],
   "source": [
    "tt='[uint8]'"
   ]
  },
  {
   "cell_type": "code",
   "execution_count": 34,
   "id": "66582e64",
   "metadata": {},
   "outputs": [],
   "source": [
    "import re\n",
    "ttt = re.sub('[\\[\\]\\']','',tt)"
   ]
  },
  {
   "cell_type": "code",
   "execution_count": 40,
   "id": "b8ca6bc2",
   "metadata": {},
   "outputs": [],
   "source": [
    "tttt = re.compile('[\\[\\]\\']')"
   ]
  },
  {
   "cell_type": "code",
   "execution_count": 41,
   "id": "296b19f0",
   "metadata": {},
   "outputs": [
    {
     "data": {
      "text/plain": [
       "'uint8'"
      ]
     },
     "execution_count": 41,
     "metadata": {},
     "output_type": "execute_result"
    }
   ],
   "source": [
    "re.sub(tttt,'',tt)"
   ]
  },
  {
   "cell_type": "code",
   "execution_count": 43,
   "id": "c20a7254",
   "metadata": {},
   "outputs": [
    {
     "name": "stdout",
     "output_type": "stream",
     "text": [
      "[array([[-5.78611672e-01,  3.86380404e-01, -2.14791596e-01,\n",
      "         5.28418422e-01,  1.73865724e+00,  7.15347528e-01,\n",
      "         2.10158277e+00,  6.55049160e-02, -2.25726545e-01,\n",
      "        -6.10713720e-01, -1.57064712e+00, -2.13929820e+00,\n",
      "        -2.20816112e+00, -8.84118557e-01, -1.31219792e+00,\n",
      "        -1.30500630e-01, -2.20935297e+00, -1.55069709e+00,\n",
      "         1.30113199e-01, -1.26090777e+00, -5.36828399e-01,\n",
      "        -1.17879605e+00, -6.23667240e-02, -8.88152346e-02,\n",
      "        -2.48053446e-01,  2.34807536e-01, -1.63815653e+00,\n",
      "        -8.56886446e-01, -4.95291263e-01, -5.41151524e-01,\n",
      "        -6.92207575e-01,  1.81177825e-01, -7.28756964e-01,\n",
      "         1.62555766e+00,  3.94140363e+00, -7.05457389e-01,\n",
      "        -3.25555950e-01, -7.61738956e-01, -4.58463728e-01,\n",
      "        -9.42488551e-01, -1.57945406e+00, -1.38965607e+00,\n",
      "        -1.00517154e+00, -4.45078313e-02, -1.02312064e+00,\n",
      "         8.91823292e-01, -7.31614769e-01, -1.37949932e+00,\n",
      "        -1.14596151e-02, -2.33671933e-01,  9.48263228e-01,\n",
      "        -1.48012847e-01, -1.79078698e+00, -1.32172179e+00,\n",
      "         1.06033707e+00, -6.55203760e-01, -2.37744957e-01,\n",
      "        -1.93861651e+00, -1.62519321e-01,  5.88296294e-01,\n",
      "         2.52088642e+00, -1.86442778e-01, -3.98442388e-01,\n",
      "         3.23467910e-01,  1.58477038e-01,  7.91893542e-01,\n",
      "         1.44936550e+00,  1.01009595e+00,  1.54348767e+00,\n",
      "         1.72396100e+00,  2.30738103e-01,  1.63852549e+00,\n",
      "        -1.13808584e+00,  5.67922056e-01, -6.58032537e-01,\n",
      "         4.37299311e-01,  1.05155647e+00,  7.33863354e-01,\n",
      "        -5.08255363e-01,  1.51887584e+00, -9.34389085e-02,\n",
      "        -1.90135688e-02, -6.46383822e-01,  4.58339415e-02,\n",
      "        -1.31060910e+00, -2.59005040e-01, -1.03837419e+00,\n",
      "         7.58122563e-01, -9.51583624e-01, -4.15593311e-02,\n",
      "        -2.16078401e+00, -2.21280527e+00, -1.16048288e+00,\n",
      "        -5.30966759e-01,  9.87212956e-01, -3.00164652e+00,\n",
      "        -7.43103147e-01, -1.58430767e+00, -1.56263721e+00,\n",
      "        -2.35467210e-01, -1.15269983e+00, -7.46668816e-01,\n",
      "         9.04623687e-01,  1.46972680e+00,  1.74213934e+00,\n",
      "        -1.18485498e+00,  1.91409397e+00,  2.15710282e+00,\n",
      "         6.15276396e-03, -1.55974591e+00, -1.15136147e+00,\n",
      "         1.69105411e+00,  2.46909451e+00,  5.31097829e-01,\n",
      "         4.64996010e-01, -8.07853699e-01, -1.24392354e+00,\n",
      "         1.74156964e+00, -8.03552985e-01, -7.53674388e-01,\n",
      "        -7.57912815e-01, -2.04877064e-01, -8.67372155e-02,\n",
      "        -2.55471438e-01,  1.72923580e-01,  8.62664282e-01,\n",
      "         3.54449660e-01, -1.92230552e-01, -8.75501752e-01,\n",
      "         1.26268893e-01, -6.46124423e-01, -1.32671118e+00,\n",
      "         9.43331301e-01, -1.25660539e+00, -1.26248956e+00,\n",
      "        -4.16822493e-01, -1.60420120e+00, -8.32962573e-01,\n",
      "         8.67746547e-02, -1.29183078e+00, -1.99841237e+00,\n",
      "        -1.55258656e+00, -1.83418167e+00, -1.17439389e+00,\n",
      "        -1.22663486e+00, -1.52012074e+00, -1.57024860e+00,\n",
      "        -8.60350132e-01, -1.25655198e+00, -2.09328413e-01,\n",
      "        -1.58529067e+00,  1.38659596e+00, -2.04288781e-01,\n",
      "         1.81434596e+00,  1.89522445e+00,  1.50190592e+00,\n",
      "        -9.95204970e-03,  9.15062726e-01,  8.30860555e-01,\n",
      "        -7.34184206e-01, -6.55906677e-01,  1.98855865e+00,\n",
      "         2.00492287e+00,  5.59910595e-01,  1.58375192e+00,\n",
      "         2.15074971e-01,  1.36599168e-01, -1.59687006e+00,\n",
      "         2.30364367e-01,  8.98960531e-02, -1.57122463e-02,\n",
      "         1.54665768e+00,  1.27574787e-01,  1.92915469e-01,\n",
      "         1.09842443e+00, -5.58412015e-01, -5.92134535e-01,\n",
      "        -2.01033816e-01,  5.31708360e-01, -2.62312829e-01,\n",
      "        -4.58389968e-01,  1.69227660e-01,  1.13556123e+00,\n",
      "        -6.21529520e-02,  1.36702228e+00,  1.35985255e-01,\n",
      "         3.22310060e-01,  1.56079519e+00,  1.30470395e-01,\n",
      "         6.53166592e-01,  1.06910157e+00,  8.35289299e-01,\n",
      "         1.66937590e+00,  8.18081617e-01,  5.22875965e-01,\n",
      "         1.54486144e+00,  1.28874183e+00, -3.70677412e-01,\n",
      "         1.49977207e-02,  1.70328140e+00,  3.30314994e-01,\n",
      "         1.19285905e+00,  1.22462118e+00,  3.46107507e+00,\n",
      "         2.53143430e+00, -7.63157487e-01, -1.96660280e+00,\n",
      "         6.80507362e-01,  1.09111810e+00,  8.91727388e-01,\n",
      "        -6.88958824e-01, -5.65089524e-01,  1.72531211e+00,\n",
      "         1.58745646e-01, -3.97407711e-01,  6.54717803e-01,\n",
      "        -5.71224988e-02,  8.88971388e-01,  8.24587345e-01,\n",
      "         1.70502198e+00, -8.98225725e-01, -5.25884628e-01,\n",
      "         1.43143982e-02,  2.58552718e+00,  1.03651798e+00,\n",
      "         3.87879223e-01, -8.87370765e-01,  3.59793693e-01,\n",
      "        -1.19143352e-01,  1.22530985e+00,  2.03348565e+00,\n",
      "         1.12063205e+00,  5.90769351e-01, -8.71275008e-01,\n",
      "         8.77065063e-01,  6.75761521e-01,  8.72457206e-01,\n",
      "         1.84830499e+00,  9.37863708e-01,  1.05839503e+00,\n",
      "         2.93719143e-01,  3.82117659e-01,  8.30904603e-01,\n",
      "        -1.01154339e+00, -9.34636295e-01,  1.38482082e+00,\n",
      "        -4.74218488e-01,  3.79130542e-01,  5.62965870e-01,\n",
      "         7.18093038e-01,  1.37904263e+00,  1.33279169e+00,\n",
      "        -1.81287065e-01,  1.19117212e+00,  1.12899303e+00,\n",
      "        -2.07523561e+00, -2.24349439e-01,  9.95990396e-01,\n",
      "         1.42211294e+00,  1.93644130e+00,  8.69256675e-01,\n",
      "         1.24569905e+00, -1.32973123e+00,  1.98214471e+00,\n",
      "         1.85606945e+00,  2.06265998e+00,  1.42440200e+00,\n",
      "         4.29030880e-02, -1.22153533e+00,  9.94547248e-01,\n",
      "         1.07996893e+00,  1.67977214e+00,  2.19465661e+00,\n",
      "         1.61967814e+00,  5.47132432e-01,  1.02849650e+00,\n",
      "         2.85183692e+00,  2.82482624e+00,  1.56726682e+00,\n",
      "         1.21131694e+00,  3.74457216e+00,  2.01483250e+00,\n",
      "         2.07283115e+00,  2.26291537e+00,  2.08872437e+00,\n",
      "         2.38297367e+00,  1.96303278e-01,  1.65788245e+00,\n",
      "         3.39624226e-01, -7.19449967e-02, -2.42342740e-01,\n",
      "         1.66582614e-01, -7.17190146e-01,  1.56064653e+00,\n",
      "        -3.97579342e-01,  1.11946017e-01, -5.27686000e-01,\n",
      "        -1.42057791e-01,  1.02674150e+00,  1.65204835e+00,\n",
      "        -2.65592504e+00,  3.07822108e-01, -2.64505744e+00,\n",
      "        -6.51147485e-01, -1.62781668e+00,  2.14382038e-01,\n",
      "        -6.35967314e-01, -1.01856160e+00,  2.93609262e-01,\n",
      "        -1.23261988e+00,  5.19024968e-01, -7.98856616e-01,\n",
      "         1.96768373e-01,  6.93115354e-01,  1.39698207e+00,\n",
      "        -1.39261425e-01, -1.73418894e-01, -1.75507262e-01,\n",
      "         1.33044076e+00, -7.68255174e-01, -1.08995116e+00,\n",
      "        -1.88836348e+00, -1.97496533e+00, -1.59848690e+00,\n",
      "        -9.68885005e-01, -1.08169389e+00, -1.40999007e+00,\n",
      "         1.00685120e+00,  8.63266736e-02, -8.84917378e-01,\n",
      "         1.56085181e+00,  1.40985811e+00,  1.69438207e+00,\n",
      "        -7.54626095e-02,  1.43380690e+00, -2.93300688e-01,\n",
      "        -1.12670600e+00, -2.05693096e-01,  7.17798769e-02,\n",
      "        -1.56771040e+00, -6.30352437e-01, -5.28101504e-01,\n",
      "         5.83389521e-01, -1.21260189e-01, -1.83481193e+00,\n",
      "        -1.57157099e+00, -2.77314901e+00, -1.34955597e+00,\n",
      "        -1.93509185e+00, -9.96016920e-01, -1.46953642e+00,\n",
      "        -5.26628017e-01, -7.79880047e-01,  4.16019738e-01,\n",
      "        -1.86190858e-01, -8.30737829e-01,  1.31556380e+00,\n",
      "        -5.54282486e-01,  4.61366773e-01,  1.58340359e+00,\n",
      "        -7.35713184e-01,  4.42248535e+00,  3.56157875e+00,\n",
      "         3.21682715e+00, -1.34240866e-01, -1.49480593e+00,\n",
      "        -7.07099617e-01, -9.60149646e-01, -1.30502260e+00,\n",
      "        -1.41948175e+00, -1.60980308e+00, -1.16863644e+00,\n",
      "        -2.55079985e-01, -7.23968923e-01, -6.85123563e-01,\n",
      "        -1.85697067e+00, -1.76355624e+00, -1.43874183e-01,\n",
      "        -8.94084096e-01, -1.51081252e+00, -5.47503680e-03,\n",
      "        -9.66691852e-01, -5.13495326e-01,  5.81130981e-01,\n",
      "        -8.39233458e-01, -1.26414526e+00, -1.89469302e+00,\n",
      "        -3.83384794e-01, -7.25939274e-01,  2.31296599e-01,\n",
      "         7.66979218e-01, -1.52123243e-01, -1.50196934e+00,\n",
      "        -6.42927468e-01, -3.58789951e-01,  4.05567646e-01,\n",
      "         1.07702911e-01,  1.73269916e+00, -1.02268279e+00,\n",
      "         2.34665275e-01, -1.59451950e+00,  2.04427689e-02,\n",
      "         1.67302680e+00, -1.01385963e+00, -1.54716003e+00,\n",
      "        -1.19552636e+00, -8.88208449e-01,  2.99140990e-01,\n",
      "        -2.10224509e+00,  5.35410404e-01, -1.95474100e+00,\n",
      "        -9.54615712e-01,  1.85404348e+00,  6.98034525e-01,\n",
      "        -9.12135363e-01, -2.35269141e+00, -4.29399014e-02,\n",
      "        -1.65244341e-01,  2.97456801e-01,  2.32990432e+00,\n",
      "         1.69068503e+00, -3.11904162e-01, -8.39440286e-01,\n",
      "        -9.21687186e-01, -2.03821373e+00,  1.22068369e+00,\n",
      "        -7.03695536e-01,  1.09054852e+00,  1.31588057e-03,\n",
      "         1.38689065e+00, -8.16786140e-02, -9.93625998e-01,\n",
      "        -1.91145957e-01, -1.12971616e+00, -5.88439815e-02,\n",
      "        -2.61826694e-01, -7.66813233e-02,  1.13384938e+00,\n",
      "         3.15927207e-01, -1.07098722e+00,  4.51045811e-01,\n",
      "         7.34207153e-01, -4.46686670e-02,  6.95158839e-02,\n",
      "         4.69565988e-02, -2.51364398e+00,  1.12753403e+00,\n",
      "        -2.21681684e-01,  3.11326683e-01, -1.06817818e+00,\n",
      "        -2.43922067e+00,  4.44459170e-01, -4.51755941e-01,\n",
      "        -6.71091318e-01, -1.71332705e+00,  6.08744144e-01,\n",
      "        -8.13303053e-01,  7.55709291e-01, -1.16199112e+00,\n",
      "         1.24417327e-01, -1.13191819e+00,  1.02440763e+00,\n",
      "         1.49361837e+00,  6.94295824e-01,  3.42136204e-01,\n",
      "         5.76274842e-02, -1.07378674e+00, -3.01854253e+00,\n",
      "         1.19375753e+00,  7.01412201e-01,  2.22085333e+00,\n",
      "        -9.42280889e-01, -1.32362461e+00,  6.84997559e-01,\n",
      "        -8.53333771e-01,  4.37221467e-01, -2.48379040e+00,\n",
      "        -9.80167031e-01,  8.09744716e-01,  6.28393471e-01,\n",
      "         1.23818815e+00, -9.69218612e-01, -3.66818190e-01,\n",
      "        -4.70657021e-01, -9.14570034e-01,  9.24031675e-01,\n",
      "         2.83559799e-01,  5.27357817e-01, -4.59265172e-01,\n",
      "         4.83242750e-01, -8.88531208e-02, -1.43549860e-01,\n",
      "         7.19159961e-01, -1.14172590e+00,  1.43717349e-01,\n",
      "        -1.31912863e+00, -2.00646937e-01,  5.04232168e-01,\n",
      "         6.84892178e-01,  7.71585107e-01, -5.20311534e-01,\n",
      "         5.96728206e-01, -7.98844039e-01,  9.78554726e-01,\n",
      "         1.26619905e-01,  1.69035241e-01,  6.41676188e-01,\n",
      "         6.48145139e-01,  6.57029629e-01, -3.64373493e+00,\n",
      "        -6.87923193e-01, -4.45526868e-01,  6.78705037e-01,\n",
      "         2.69898534e-01,  4.66528207e-01,  3.53030890e-01,\n",
      "        -3.02251279e-01, -1.90016106e-01,  2.92470217e-01,\n",
      "         1.11216798e-01, -1.80543673e+00, -4.24691513e-02,\n",
      "         2.65335739e-02,  1.18766236e+00, -3.88285339e-01,\n",
      "        -7.96972692e-01, -6.60398126e-01,  1.15196921e-01,\n",
      "        -1.68298036e-01, -3.30095232e-01,  2.53527331e+00,\n",
      "         5.19622684e-01,  6.29842654e-02,  1.82165176e-01,\n",
      "         3.81225109e-01, -7.77211428e-01, -1.55162406e+00,\n",
      "        -1.46127653e+00, -4.86879647e-01,  2.68960357e+00,\n",
      "        -1.95149124e-01,  1.93508297e-01,  2.15479279e+00,\n",
      "         1.07381701e+00,  8.85157108e-01,  1.21943355e+00,\n",
      "         1.16267133e+00, -1.89818478e+00, -1.23102033e+00,\n",
      "         1.00521252e-01, -1.49219990e+00, -1.30227494e+00,\n",
      "         9.74624515e-01,  1.41572857e+00, -2.06142211e+00,\n",
      "         1.59623921e-01,  2.27663541e+00,  7.15005338e-01,\n",
      "         7.29527950e-01,  1.47540677e+00, -6.03838414e-02,\n",
      "         1.81866124e-01,  1.07780552e+00,  1.15597081e+00,\n",
      "        -1.49742115e+00, -1.01175368e-01,  6.37202710e-02,\n",
      "         1.02578056e+00, -1.51118040e-01,  1.09186701e-01,\n",
      "         1.03153372e+00, -1.17149901e+00,  1.11313450e+00,\n",
      "         1.16225100e+00,  2.56071472e+00,  2.36888215e-01,\n",
      "        -2.77481270e+00,  7.12806284e-01, -1.21497822e+00,\n",
      "         4.08768892e-01, -7.42047310e-01, -3.94418329e-01,\n",
      "        -2.70950174e+00,  1.52275205e-01, -8.12106311e-01,\n",
      "         5.15829623e-01, -1.08731198e+00,  1.25936341e+00,\n",
      "         6.75309956e-01,  6.09062731e-01, -2.56266046e+00,\n",
      "         3.08925718e-01, -1.06039715e+00,  9.05104637e-01,\n",
      "        -9.25194860e-01,  2.08379641e-01,  1.00681591e+00,\n",
      "        -4.44371134e-01,  2.97584504e-01, -6.97944880e-01,\n",
      "         5.84463537e-01,  3.48714411e-01,  7.46847987e-01,\n",
      "        -1.73593998e+00,  1.32833385e+00,  6.16373047e-02,\n",
      "         1.06672633e+00,  3.55066037e+00,  6.57077670e-01,\n",
      "        -5.15195429e-02, -3.68697122e-02, -1.73492536e-01,\n",
      "        -1.32238519e+00,  9.07973230e-01, -1.04442322e+00,\n",
      "         1.12468883e-01,  1.17124701e+00, -1.32529810e-01,\n",
      "         1.55577195e+00,  2.99643445e+00,  1.70286965e+00,\n",
      "         1.53783366e-01,  1.28482354e+00,  1.31183112e+00,\n",
      "        -1.72794139e+00, -1.92442322e+00,  2.51854467e+00,\n",
      "         1.11168647e+00, -1.12527323e+00,  5.65701067e-01,\n",
      "         4.68333066e-01, -5.34494162e-01,  1.72411489e+00,\n",
      "        -2.47752324e-01, -2.46457529e+00, -1.56810999e+00,\n",
      "         3.02410424e-02,  1.74909592e-01, -1.10920012e+00,\n",
      "        -1.72600293e+00,  1.46393132e+00,  1.45816016e+00,\n",
      "        -3.28657106e-02,  1.04528224e+00,  2.41309118e+00,\n",
      "        -2.22803879e+00,  1.37409151e+00,  5.70598066e-01,\n",
      "        -1.11526740e+00,  7.01243639e-01,  2.09606552e+00,\n",
      "         4.74251658e-01, -6.72248900e-01,  8.48703384e-02,\n",
      "        -6.75257981e-01,  3.65969449e-01,  1.58832282e-01,\n",
      "         1.48748159e+00,  3.84257615e-01, -2.46162415e-01,\n",
      "         2.87544429e-01, -1.64449632e+00, -1.69164047e-01,\n",
      "        -1.22353840e+00,  7.02456355e-01,  5.01593590e-01,\n",
      "         8.43005300e-01, -1.29884219e+00, -1.17397988e+00,\n",
      "         9.89054441e-01, -2.48418346e-01, -5.23628891e-01,\n",
      "         1.82804620e+00,  1.38783014e+00,  2.72075152e+00,\n",
      "        -8.64658833e-01, -4.79507774e-01,  1.41344392e+00,\n",
      "        -3.82083118e-01, -1.01516616e+00,  8.92919898e-01,\n",
      "         1.29117119e+00,  1.34474468e+00,  3.69569689e-01,\n",
      "         2.41978973e-01,  4.60353464e-01, -6.88111722e-01,\n",
      "        -1.19378591e+00,  9.00424898e-01, -1.42822027e+00,\n",
      "        -2.34008455e+00, -2.10628510e-01, -9.02785659e-01,\n",
      "        -1.07227731e+00, -9.06780660e-01, -3.85573924e-01,\n",
      "         5.95518172e-01,  1.79177597e-01, -1.24429703e+00,\n",
      "         4.54160362e-01,  1.84869027e+00, -5.49458921e-01,\n",
      "         1.99018911e-01,  7.78788149e-01,  1.39266241e+00,\n",
      "        -2.00166297e+00, -1.02731729e+00,  2.71583557e-01,\n",
      "        -9.20292020e-01, -1.39506829e+00, -2.14858845e-01,\n",
      "         7.88167953e-01,  9.41773504e-03, -2.07064860e-03,\n",
      "         8.02856207e-01, -5.46376050e-01,  1.36338222e+00,\n",
      "        -6.52775526e-01, -1.68145150e-01,  9.48793054e-01,\n",
      "         2.24246073e+00, -1.23565423e+00,  2.56594467e+00,\n",
      "        -8.70848894e-02, -1.15893102e+00,  8.60134125e-01,\n",
      "        -1.22320426e+00, -8.57901573e-03,  2.09452105e+00,\n",
      "        -1.97047746e+00, -2.18875408e-01,  2.34399366e+00,\n",
      "        -7.39315152e-01,  1.34770763e+00, -1.88835740e-01,\n",
      "         5.03430903e-01,  1.72435296e+00,  1.02821743e+00,\n",
      "        -1.58727717e+00, -2.23583531e+00,  4.48914200e-01,\n",
      "         1.37288833e+00, -2.67896682e-01, -6.47320449e-02,\n",
      "         1.06493819e+00,  1.42676818e+00, -3.87061894e-01,\n",
      "         5.25928378e-01, -1.21591175e+00,  2.25539589e+00,\n",
      "        -1.15692563e-01,  1.17101991e+00,  5.48561066e-02,\n",
      "         1.27399278e+00, -5.12220740e-01,  9.71073151e-01,\n",
      "        -1.63309348e+00, -4.46386427e-01, -1.25042820e+00,\n",
      "        -1.11027718e+00,  3.25445503e-01,  1.85285735e+00,\n",
      "        -1.95521474e+00,  1.31078494e+00,  6.24153376e-01,\n",
      "         8.26048613e-01, -4.28257704e-01,  1.54437625e+00,\n",
      "        -2.60830760e-01,  1.14668381e+00,  2.74756610e-01,\n",
      "         2.57055879e-01,  6.55379415e-01,  1.73877299e+00,\n",
      "         4.18494225e-01, -1.36425698e+00,  1.72301590e+00,\n",
      "         6.22491539e-01, -1.03070569e+00, -8.36552382e-01,\n",
      "        -1.17215383e+00, -1.01284814e+00,  8.20475876e-01,\n",
      "         1.26612771e+00,  1.66386104e+00, -1.60463601e-02,\n",
      "        -2.00668305e-01, -8.55437577e-01, -2.01080775e+00,\n",
      "         5.23197889e-01, -1.08698118e+00,  2.53755403e+00,\n",
      "         2.10116148e+00,  6.58374667e-01, -6.49242878e-01,\n",
      "         7.22456276e-02,  4.74720359e-01,  1.22386730e+00,\n",
      "        -4.48440939e-01,  7.32573509e-01, -7.22897649e-01,\n",
      "        -1.78621888e+00, -3.14898491e-01,  7.82817602e-01,\n",
      "         7.23471940e-01,  1.92959499e+00, -1.25475034e-01,\n",
      "        -7.54690528e-01, -1.00542581e+00, -7.51052499e-01,\n",
      "        -1.43908691e+00,  3.10394025e+00, -3.23498771e-02,\n",
      "         1.92912054e+00, -1.75674295e+00, -4.62483674e-01,\n",
      "         3.67170244e-01, -5.27419567e-01,  4.43667555e+00,\n",
      "         1.11427985e-01, -1.67832077e+00, -2.29995227e+00,\n",
      "        -6.99980378e-01, -1.28683984e+00,  1.58386096e-01,\n",
      "        -1.37514651e+00,  3.27052474e-01,  1.75839007e+00,\n",
      "         1.61489725e+00, -8.65120173e-01,  1.39721811e-01,\n",
      "         1.01884291e-01, -1.55619216e+00, -8.91886473e-01,\n",
      "         2.82130301e-01, -1.43882489e+00, -3.60347748e-01,\n",
      "         4.70167696e-02, -1.47077668e+00,  7.90354013e-02,\n",
      "         1.06400478e+00,  1.10646307e+00, -8.76806021e-01,\n",
      "         1.30987912e-01,  1.08511698e+00,  2.85215950e+00,\n",
      "         2.35993791e+00, -9.95843112e-01, -1.55333847e-01,\n",
      "         6.76371098e-01, -1.14957988e-01,  1.98923469e+00,\n",
      "         3.33381915e+00, -1.06314218e+00,  5.41805685e-01,\n",
      "         1.42321622e+00, -2.85275340e+00, -9.65070546e-01,\n",
      "        -1.13762224e+00,  1.22967291e+00, -2.47811246e+00,\n",
      "         9.95960712e-01,  2.61569118e+00, -5.78987002e-01,\n",
      "        -5.03192067e-01, -4.28782845e+00,  5.70482671e-01,\n",
      "         9.18228030e-01,  3.07044119e-01,  4.02735442e-01,\n",
      "         1.39658558e+00, -1.01639628e+00,  5.62509656e-01,\n",
      "        -3.28402340e-01, -1.18786204e+00,  8.11285794e-01,\n",
      "        -2.74350405e-01,  2.34418392e-01, -1.63418543e+00,\n",
      "         1.76587129e+00,  1.98082721e+00, -3.00578088e-01,\n",
      "         1.31182933e+00,  6.32340074e-01,  2.40219280e-01,\n",
      "         1.58715248e+00, -3.97699237e-01, -1.29248750e+00,\n",
      "         1.89329356e-01,  5.40746093e-01, -5.88397741e-01,\n",
      "        -9.64014947e-01,  1.32167816e+00, -2.17342198e-01,\n",
      "         1.15007773e-01, -1.49337769e+00,  1.29518032e-01,\n",
      "        -3.59976172e-01,  1.60059881e+00,  3.93079519e-01,\n",
      "         1.96864575e-01, -1.86084300e-01,  6.13035381e-01,\n",
      "         2.90481150e-01,  1.28810012e+00,  1.46815851e-01,\n",
      "        -9.98718202e-01,  4.72965211e-01,  1.79840088e+00,\n",
      "         8.18663478e-01,  9.03120339e-01,  6.05031848e-01,\n",
      "        -1.61226141e+00,  2.63495475e-01, -1.93655670e+00,\n",
      "         1.30362019e-01, -2.13087082e+00, -1.79687655e+00,\n",
      "        -2.70368040e-01,  1.02650893e+00,  1.86283612e+00,\n",
      "        -1.46592125e-01, -1.66467369e+00, -1.72489142e+00,\n",
      "        -1.95784998e+00, -1.47007036e+00, -2.45164418e+00,\n",
      "        -8.62748861e-01, -1.76244926e+00, -3.41888249e-01,\n",
      "        -6.19428635e-01, -1.43982816e+00, -1.56984270e-01,\n",
      "        -9.35177088e-01, -2.57773638e+00, -5.77759087e-01,\n",
      "        -1.34642565e+00,  1.13351479e-01, -1.26137269e+00,\n",
      "        -2.01243877e+00, -9.48044777e-01, -1.05520630e+00,\n",
      "        -9.76291418e-01, -1.35608923e+00, -2.64024878e+00,\n",
      "        -8.78272057e-01, -2.57216024e+00, -5.90431035e-01,\n",
      "         6.92244589e-01, -8.06300282e-01,  1.10522747e+00,\n",
      "         6.66819692e-01, -2.21216798e+00,  1.70052081e-01,\n",
      "         5.34312725e-01, -1.46994269e+00, -1.32227492e+00,\n",
      "         3.40142660e-02,  6.46929979e-01, -1.04521859e+00,\n",
      "        -1.68730342e+00, -4.62231815e-01, -1.42963660e+00,\n",
      "        -3.40797096e-01, -1.24998581e+00, -1.78169787e+00,\n",
      "         5.22172570e-01,  1.37354881e-01,  8.10275972e-01,\n",
      "         4.20751795e-02, -1.20240343e+00,  9.86843944e-01,\n",
      "        -1.31978953e+00, -1.55113947e+00,  7.83798814e-01,\n",
      "         3.42769295e-01, -3.44646364e-01,  3.22195947e-01,\n",
      "         1.17786217e+00, -5.83805501e-01,  2.57310724e+00,\n",
      "         6.78042889e-01, -1.09177136e+00, -1.04805040e+00,\n",
      "        -7.37692118e-01,  2.84845084e-01, -1.68401384e+00,\n",
      "         1.13847113e+00,  1.75277889e-02, -1.48805976e+00,\n",
      "         7.65643865e-02, -1.33982563e+00, -5.05609512e-01,\n",
      "        -2.99454546e+00, -2.50803590e+00, -1.09835744e+00,\n",
      "        -2.11482596e+00, -1.75443780e+00,  3.72998357e-01,\n",
      "         1.91854227e+00]], dtype=float32)]\n"
     ]
    },
    {
     "ename": "NameError",
     "evalue": "name 'onnx' is not defined",
     "output_type": "error",
     "traceback": [
      "\u001b[0;31m---------------------------------------------------------------------------\u001b[0m",
      "\u001b[0;31mNameError\u001b[0m                                 Traceback (most recent call last)",
      "Input \u001b[0;32mIn [43]\u001b[0m, in \u001b[0;36m<cell line: 25>\u001b[0;34m()\u001b[0m\n\u001b[1;32m     22\u001b[0m \u001b[38;5;28mprint\u001b[39m((ort_outs))\n\u001b[1;32m     24\u001b[0m model_file \u001b[38;5;241m=\u001b[39m \u001b[38;5;124m\"\u001b[39m\u001b[38;5;124m/data2/user/sjj995/TensorRT/temp2/vgg16-7.onnx\u001b[39m\u001b[38;5;124m\"\u001b[39m\n\u001b[0;32m---> 25\u001b[0m onnx_model_detailed \u001b[38;5;241m=\u001b[39m \u001b[43monnx\u001b[49m\u001b[38;5;241m.\u001b[39mload(model_file)\n\u001b[1;32m     26\u001b[0m \u001b[38;5;28;01mfor\u001b[39;00m node_num,node_info \u001b[38;5;129;01min\u001b[39;00m \u001b[38;5;28menumerate\u001b[39m(onnx_model_detailed\u001b[38;5;241m.\u001b[39mgraph\u001b[38;5;241m.\u001b[39mnode):\n\u001b[1;32m     27\u001b[0m     \u001b[38;5;28;01mif\u001b[39;00m node_num \u001b[38;5;241m==\u001b[39m error_node:\n",
      "\u001b[0;31mNameError\u001b[0m: name 'onnx' is not defined"
     ]
    }
   ],
   "source": [
    "# import torch\n",
    "# import onnxruntime\n",
    "# import numpy\n",
    "# ort_session = onnxruntime.InferenceSession(\"/data2/user/sjj995/TensorRT/temp2/vgg16-7.onnx\",providers=['CPUExecutionProvider','CUDAExecutionProvider' ])\n",
    "\n",
    "\n",
    "# def to_numpy(tensor):\n",
    "#     return tensor.detach().cpu().numpy() if tensor.requires_grad else tensor.cpu().numpy()\n",
    "\n",
    "# # compute ONNX Runtime output prediction\n",
    "# x = torch.randn(1,3, 224,224).to(device)\n",
    "# ort_inputs = {ort_session.get_inputs()[0].name: to_numpy(x)}\n",
    "# outname = [output.name for output in ort_session.get_outputs()]\n",
    "# #print(ort_inputs)\n",
    "# #print(outname)\n",
    "# ort_outs = ort_session.run(outname,ort_inputs)\n",
    "\n",
    "# # compare ONNX Runtime and PyTorch results\n",
    "# # np.testing.assert_allclose(to_numpy(torch_out), ort_outs[0], rtol=1e-03, atol=1e-05)\n",
    "\n",
    "# #print(\"Exported model has been tested with ONNXRuntime, and the result looks good!\")\n",
    "# print((ort_outs))\n",
    "\n",
    "import onnx\n",
    "model_file = \"/data2/user/sjj995/TensorRT/temp2/vgg16-7.onnx\"\n",
    "onnx_model_detailed = onnx.load(model_file)\n",
    "for node_num,node_info in enumerate(onnx_model_detailed.graph.node):\n",
    "    if node_num == error_node:\n",
    "        print(node_num,node_info.op_type)"
   ]
  }
 ],
 "metadata": {
  "kernelspec": {
   "display_name": "Python 3 (ipykernel)",
   "language": "python",
   "name": "python3"
  },
  "language_info": {
   "codemirror_mode": {
    "name": "ipython",
    "version": 3
   },
   "file_extension": ".py",
   "mimetype": "text/x-python",
   "name": "python",
   "nbconvert_exporter": "python",
   "pygments_lexer": "ipython3",
   "version": "3.8.10"
  }
 },
 "nbformat": 4,
 "nbformat_minor": 5
}
