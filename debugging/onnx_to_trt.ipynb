{
 "cells": [
  {
   "cell_type": "code",
   "execution_count": 22,
   "id": "301f842b",
   "metadata": {},
   "outputs": [
    {
     "name": "stdout",
     "output_type": "stream",
     "text": [
      "<tensorrt.tensorrt.IOptimizationProfile object at 0x7f8467d301f0>\n",
      "[07/05/2022-14:38:43] [TRT] [W] TensorRT was linked against cuDNN 8.4.1 but loaded cuDNN 8.4.0\n"
     ]
    },
    {
     "name": "stderr",
     "output_type": "stream",
     "text": [
      "/tmp/ipykernel_3594421/2845419503.py:32: DeprecationWarning: Use set_memory_pool_limit instead.\n",
      "  config.max_workspace_size = 8 << 30\n",
      "/tmp/ipykernel_3594421/2845419503.py:35: DeprecationWarning: Use set_memory_pool_limit instead.\n",
      "  config.max_workspace_size = GiB(10)\n",
      "/tmp/ipykernel_3594421/2845419503.py:43: DeprecationWarning: Use build_serialized_network instead.\n",
      "  return builder.build_engine(network, config=config)\n"
     ]
    },
    {
     "name": "stdout",
     "output_type": "stream",
     "text": [
      "[07/05/2022-14:38:57] [TRT] [W] The getMaxBatchSize() function should not be used with an engine built from a network created with NetworkDefinitionCreationFlag::kEXPLICIT_BATCH flag. This function will always return 1.\n",
      "[07/05/2022-14:38:57] [TRT] [W] The getMaxBatchSize() function should not be used with an engine built from a network created with NetworkDefinitionCreationFlag::kEXPLICIT_BATCH flag. This function will always return 1.\n",
      "<tensorrt.tensorrt.ICudaEngine object at 0x7f8467d303f0>\n"
     ]
    }
   ],
   "source": [
    "import tensorrt as trt\n",
    "import pycuda.driver as cuda\n",
    "import pycuda.autoinit\n",
    "\n",
    "tensorrt_file_name='tinyyolov2-8.trt'\n",
    "\n",
    "class ModelData(object):\n",
    "    MODEL_PATH = \"/datadrive/tensorrt/test_onnx/tinyyolov2-8.onnx\"\n",
    "    INPUT_SHAPE = (1,3, 416, 416)\n",
    "    # We can convert TensorRT data types to numpy types with trt.nptype()\n",
    "    DTYPE = trt.float32\n",
    "\n",
    "EXPLICIT_BATCH = 1 << (int)(trt.NetworkDefinitionCreationFlag.EXPLICIT_BATCH)\n",
    "\n",
    "\n",
    "def GiB(val):\n",
    "    return val * 1 << 30\n",
    "    \n",
    "# You can set the logger severity higher to suppress messages (or lower to display more messages).\n",
    "TRT_LOGGER = trt.Logger(trt.Logger.WARNING)\n",
    "\n",
    "# The Onnx path is used for Onnx models.\n",
    "def build_engine_onnx(model_file):\n",
    "    \n",
    "    builder = trt.Builder(TRT_LOGGER)\n",
    "    profile = builder.create_optimization_profile()\n",
    "    print(profile)\n",
    "    profile.set_shape(\"image\", (1,3, 416, 416),(1,3, 416, 416),(1,3, 416, 416)) \n",
    "    network = builder.create_network(EXPLICIT_BATCH)\n",
    "    config = builder.create_builder_config()\n",
    "    config.add_optimization_profile(profile)\n",
    "    config.max_workspace_size = 8 << 30\n",
    "    parser = trt.OnnxParser(network, TRT_LOGGER)\n",
    "\n",
    "    config.max_workspace_size = GiB(10)\n",
    "    #Load the Onnx model and parse it in order to populate the TensorRT network.\n",
    "    with open(model_file, \"rb\") as model:\n",
    "        if not parser.parse(model.read()):\n",
    "            print(\"ERROR: Failed to parse the ONNX file.\")\n",
    "            for error in range(parser.num_errors):\n",
    "                print(parser.get_error(error))\n",
    "            return None\n",
    "    return builder.build_engine(network, config=config)\n",
    "\n",
    "onnx = ModelData()\n",
    "\n",
    "trt_engine = build_engine_onnx(onnx.MODEL_PATH) # IcudaEngine \n",
    "#print(trt_engine)\n",
    "buf = trt_engine.serialize() # trt engine 으로  serialized\n",
    "with open(tensorrt_file_name,'wb') as f:\n",
    "    f.write(buf)\n",
    "\n",
    "print(trt_engine)"
   ]
  },
  {
   "cell_type": "code",
   "execution_count": null,
   "id": "4952259f",
   "metadata": {},
   "outputs": [],
   "source": [
    "from pathlib import Path\n",
    "onnx_model='/datadrive/tensorrt/onnx_models/mobilenetv2-12.onnx'\n",
    "\n",
    "tensort_file_name = Path(onnx_model).stem+'.trt'\n",
    "tensort_file_name"
   ]
  },
  {
   "cell_type": "code",
   "execution_count": null,
   "id": "f927cbc8",
   "metadata": {},
   "outputs": [],
   "source": [
    "onnx = ModelData()"
   ]
  },
  {
   "cell_type": "code",
   "execution_count": null,
   "id": "9c66d5e7",
   "metadata": {},
   "outputs": [],
   "source": [
    "build_engine_onnx(onnx.MODEL_PATH)"
   ]
  },
  {
   "cell_type": "code",
   "execution_count": null,
   "id": "b0829143",
   "metadata": {},
   "outputs": [],
   "source": [
    "1 << 30"
   ]
  },
  {
   "cell_type": "code",
   "execution_count": null,
   "id": "6f0dc610",
   "metadata": {},
   "outputs": [],
   "source": [
    "8 << 30"
   ]
  },
  {
   "cell_type": "code",
   "execution_count": null,
   "id": "5141553a",
   "metadata": {},
   "outputs": [],
   "source": [
    "list_a = ['batch_size', 3, 224, 224]"
   ]
  },
  {
   "cell_type": "code",
   "execution_count": null,
   "id": "95595aa6",
   "metadata": {},
   "outputs": [],
   "source": [
    "tuple(1 if dim == 'batch_size' else dim for dim in list_a)"
   ]
  },
  {
   "cell_type": "code",
   "execution_count": 7,
   "id": "5512168f",
   "metadata": {},
   "outputs": [
    {
     "name": "stderr",
     "output_type": "stream",
     "text": [
      "IOPub data rate exceeded.\n",
      "The notebook server will temporarily stop sending output\n",
      "to the client in order to avoid crashing it.\n",
      "To change this limit, set the config variable\n",
      "`--NotebookApp.iopub_data_rate_limit`.\n",
      "\n",
      "Current values:\n",
      "NotebookApp.iopub_data_rate_limit=1000000.0 (bytes/sec)\n",
      "NotebookApp.rate_limit_window=3.0 (secs)\n",
      "\n"
     ]
    }
   ],
   "source": [
    "print(f)"
   ]
  }
 ],
 "metadata": {
  "kernelspec": {
   "display_name": "Python 3 (ipykernel)",
   "language": "python",
   "name": "python3"
  },
  "language_info": {
   "codemirror_mode": {
    "name": "ipython",
    "version": 3
   },
   "file_extension": ".py",
   "mimetype": "text/x-python",
   "name": "python",
   "nbconvert_exporter": "python",
   "pygments_lexer": "ipython3",
   "version": "3.8.10"
  }
 },
 "nbformat": 4,
 "nbformat_minor": 5
}
