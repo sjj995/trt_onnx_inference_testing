{
 "cells": [
  {
   "cell_type": "code",
   "execution_count": 1,
   "id": "36816998",
   "metadata": {},
   "outputs": [],
   "source": [
    "import tensorrt as trt\n",
    "import pycuda.driver as cuda\n",
    "import pycuda.autoinit\n",
    "\n",
    "onnxModelPath = '/datadrive/tensorrt/onnx_models/mobilenetv2-7.onnx'\n",
    "tensorrt_file_name = '/datadrive/tensorrt/onnx_report/mobilenet.trt'\n",
    "\n",
    "# create builder <- optimization profile, Takes a network in TensorRT and generates an engine that is optimized for the target platform. \n",
    "TRT_LOGGER = trt.Logger(trt.Logger.WARNING)\n",
    "trt_runtime = trt.Runtime(TRT_LOGGER)"
   ]
  },
  {
   "cell_type": "code",
   "execution_count": 2,
   "id": "5b451fd6",
   "metadata": {},
   "outputs": [
    {
     "data": {
      "text/plain": [
       "<tensorrt.tensorrt.Runtime at 0x7f80e80a7b30>"
      ]
     },
     "execution_count": 2,
     "metadata": {},
     "output_type": "execute_result"
    }
   ],
   "source": [
    "trt_runtime"
   ]
  },
  {
   "cell_type": "code",
   "execution_count": 3,
   "id": "ccf76471",
   "metadata": {},
   "outputs": [
    {
     "name": "stdout",
     "output_type": "stream",
     "text": [
      "[07/01/2022-07:37:48] [TRT] [W] TensorRT was linked against cuDNN 8.4.1 but loaded cuDNN 8.4.0\n"
     ]
    }
   ],
   "source": [
    "# trt(engine) model file version = 8.2.4 / tensorrt version = 8.4.1 <-  이렇게 버전 안 맞을때는 안됨\n",
    "# 버전 8.4.1 로 trtexec 다시 해서 모델 만들어서 하면 됨!\n",
    "\n",
    "with open(tensorrt_file_name, 'rb') as f:\n",
    "    engine_data = f.read()\n",
    "engine = trt_runtime.deserialize_cuda_engine(engine_data)"
   ]
  },
  {
   "cell_type": "code",
   "execution_count": 4,
   "id": "68b93218",
   "metadata": {},
   "outputs": [
    {
     "name": "stdout",
     "output_type": "stream",
     "text": [
      "input (1, 3, 224, 224)\n",
      "output (1, 1000)\n"
     ]
    }
   ],
   "source": [
    "for binding in engine:\n",
    "    print(binding,engine.get_binding_shape(binding))"
   ]
  },
  {
   "cell_type": "code",
   "execution_count": 5,
   "id": "8071c634",
   "metadata": {},
   "outputs": [
    {
     "data": {
      "text/plain": [
       "2"
      ]
     },
     "execution_count": 5,
     "metadata": {},
     "output_type": "execute_result"
    }
   ],
   "source": [
    "engine.num_bindings"
   ]
  },
  {
   "cell_type": "code",
   "execution_count": 6,
   "id": "f121b52a",
   "metadata": {},
   "outputs": [
    {
     "name": "stdout",
     "output_type": "stream",
     "text": [
      "[07/01/2022-07:37:52] [TRT] [W] The getMaxBatchSize() function should not be used with an engine built from a network created with NetworkDefinitionCreationFlag::kEXPLICIT_BATCH flag. This function will always return 1.\n"
     ]
    },
    {
     "name": "stderr",
     "output_type": "stream",
     "text": [
      "/tmp/ipykernel_42726/1690288493.py:1: DeprecationWarning: Use network created with NetworkDefinitionCreationFlag::EXPLICIT_BATCH flag instead.\n",
      "  engine.max_batch_size\n"
     ]
    },
    {
     "data": {
      "text/plain": [
       "1"
      ]
     },
     "execution_count": 6,
     "metadata": {},
     "output_type": "execute_result"
    }
   ],
   "source": [
    "engine.max_batch_size"
   ]
  },
  {
   "cell_type": "code",
   "execution_count": 7,
   "id": "a16cb80f",
   "metadata": {},
   "outputs": [
    {
     "data": {
      "text/plain": [
       "55"
      ]
     },
     "execution_count": 7,
     "metadata": {},
     "output_type": "execute_result"
    }
   ],
   "source": [
    "engine.num_layers"
   ]
  },
  {
   "cell_type": "code",
   "execution_count": 8,
   "id": "dd634b75",
   "metadata": {},
   "outputs": [
    {
     "data": {
      "text/plain": [
       "7024640"
      ]
     },
     "execution_count": 8,
     "metadata": {},
     "output_type": "execute_result"
    }
   ],
   "source": [
    "engine.device_memory_size"
   ]
  },
  {
   "cell_type": "code",
   "execution_count": null,
   "id": "e99849e5",
   "metadata": {},
   "outputs": [],
   "source": [
    "engine.refittable"
   ]
  },
  {
   "cell_type": "code",
   "execution_count": null,
   "id": "0c432bcc",
   "metadata": {},
   "outputs": [],
   "source": [
    "engine.name"
   ]
  },
  {
   "cell_type": "code",
   "execution_count": null,
   "id": "7e3cb25f",
   "metadata": {},
   "outputs": [],
   "source": [
    "engine.profiling_verbosity"
   ]
  },
  {
   "cell_type": "code",
   "execution_count": 9,
   "id": "920a2402",
   "metadata": {},
   "outputs": [],
   "source": [
    "class HostDeviceMem(object):\n",
    "    def __init__(self, host_mem, device_mem):\n",
    "        self.host = host_mem\n",
    "        self.device = device_mem\n",
    "\n",
    "    def __str__(self):\n",
    "        return \"Host:\\n\" + str(self.host) + \"\\nDevice:\\n\" + str(self.device)\n",
    "\n",
    "    def __repr__(self):\n",
    "        return self.__str__()"
   ]
  },
  {
   "cell_type": "code",
   "execution_count": 201,
   "id": "a5e119b6",
   "metadata": {},
   "outputs": [
    {
     "name": "stdout",
     "output_type": "stream",
     "text": [
      "(1, 3, 416, 416)\n",
      "1\n",
      "519168\n",
      "<class 'numpy.float32'>\n",
      "519168\n",
      "<class 'numpy.ndarray'>\n",
      "140176854614016\n",
      "(1, 125, 13, 13)\n",
      "1\n",
      "21125\n",
      "<class 'numpy.float32'>\n",
      "21125\n",
      "<class 'numpy.ndarray'>\n",
      "140176848407552\n",
      "[07/07/2022-08:20:25] [TRT] [W] The getMaxBatchSize() function should not be used with an engine built from a network created with NetworkDefinitionCreationFlag::kEXPLICIT_BATCH flag. This function will always return 1.\n",
      "[07/07/2022-08:20:25] [TRT] [W] The getMaxBatchSize() function should not be used with an engine built from a network created with NetworkDefinitionCreationFlag::kEXPLICIT_BATCH flag. This function will always return 1.\n",
      "[07/07/2022-08:20:25] [TRT] [W] The getMaxBatchSize() function should not be used with an engine built from a network created with NetworkDefinitionCreationFlag::kEXPLICIT_BATCH flag. This function will always return 1.\n",
      "[07/07/2022-08:20:25] [TRT] [W] The getMaxBatchSize() function should not be used with an engine built from a network created with NetworkDefinitionCreationFlag::kEXPLICIT_BATCH flag. This function will always return 1.\n"
     ]
    },
    {
     "name": "stderr",
     "output_type": "stream",
     "text": [
      "/tmp/ipykernel_42726/3418207830.py:8: DeprecationWarning: Use network created with NetworkDefinitionCreationFlag::EXPLICIT_BATCH flag instead.\n",
      "  print(engine.max_batch_size)\n",
      "/tmp/ipykernel_42726/3418207830.py:9: DeprecationWarning: Use network created with NetworkDefinitionCreationFlag::EXPLICIT_BATCH flag instead.\n",
      "  size = trt.volume(engine.get_binding_shape(binding)) * engine.max_batch_size\n"
     ]
    }
   ],
   "source": [
    "inputs = []\n",
    "outputs = []\n",
    "bindings = []\n",
    "stream = cuda.Stream()\n",
    "\n",
    "for binding in engine:\n",
    "    print(engine.get_binding_shape(binding))\n",
    "    print(engine.max_batch_size)\n",
    "    size = trt.volume(engine.get_binding_shape(binding)) * engine.max_batch_size\n",
    "    print(size)\n",
    "    dtype = trt.nptype(engine.get_binding_dtype(binding)) #float 32 안됨\n",
    "    print(dtype)\n",
    "    host_mem = cuda.pagelocked_empty(size, dtype)\n",
    "    print(len(host_mem))\n",
    "    print(type(host_mem))\n",
    "    device_mem = cuda.mem_alloc(host_mem.nbytes)\n",
    "    print(int(device_mem))\n",
    "    bindings.append(int(device_mem))\n",
    "    # Append to the appropriate list.\n",
    "    if engine.binding_is_input(binding):\n",
    "        inputs.append(HostDeviceMem(host_mem, device_mem))\n",
    "    else:\n",
    "        outputs.append(HostDeviceMem(host_mem, device_mem))"
   ]
  },
  {
   "cell_type": "code",
   "execution_count": 11,
   "id": "41d0631d",
   "metadata": {
    "scrolled": false
   },
   "outputs": [
    {
     "data": {
      "text/plain": [
       "[Host:\n",
       " [0. 0. 0. ... 0. 0. 0.]\n",
       " Device:\n",
       " <pycuda._driver.DeviceAllocation object at 0x7f7fda896ac0>]"
      ]
     },
     "execution_count": 11,
     "metadata": {},
     "output_type": "execute_result"
    }
   ],
   "source": [
    "inputs"
   ]
  },
  {
   "cell_type": "code",
   "execution_count": 12,
   "id": "ff85df99",
   "metadata": {},
   "outputs": [
    {
     "data": {
      "text/plain": [
       "[Host:\n",
       " [0. 0. 0. 0. 0. 0. 0. 0. 0. 0. 0. 0. 0. 0. 0. 0. 0. 0. 0. 0. 0. 0. 0. 0.\n",
       "  0. 0. 0. 0. 0. 0. 0. 0. 0. 0. 0. 0. 0. 0. 0. 0. 0. 0. 0. 0. 0. 0. 0. 0.\n",
       "  0. 0. 0. 0. 0. 0. 0. 0. 0. 0. 0. 0. 0. 0. 0. 0. 0. 0. 0. 0. 0. 0. 0. 0.\n",
       "  0. 0. 0. 0. 0. 0. 0. 0. 0. 0. 0. 0. 0. 0. 0. 0. 0. 0. 0. 0. 0. 0. 0. 0.\n",
       "  0. 0. 0. 0. 0. 0. 0. 0. 0. 0. 0. 0. 0. 0. 0. 0. 0. 0. 0. 0. 0. 0. 0. 0.\n",
       "  0. 0. 0. 0. 0. 0. 0. 0. 0. 0. 0. 0. 0. 0. 0. 0. 0. 0. 0. 0. 0. 0. 0. 0.\n",
       "  0. 0. 0. 0. 0. 0. 0. 0. 0. 0. 0. 0. 0. 0. 0. 0. 0. 0. 0. 0. 0. 0. 0. 0.\n",
       "  0. 0. 0. 0. 0. 0. 0. 0. 0. 0. 0. 0. 0. 0. 0. 0. 0. 0. 0. 0. 0. 0. 0. 0.\n",
       "  0. 0. 0. 0. 0. 0. 0. 0. 0. 0. 0. 0. 0. 0. 0. 0. 0. 0. 0. 0. 0. 0. 0. 0.\n",
       "  0. 0. 0. 0. 0. 0. 0. 0. 0. 0. 0. 0. 0. 0. 0. 0. 0. 0. 0. 0. 0. 0. 0. 0.\n",
       "  0. 0. 0. 0. 0. 0. 0. 0. 0. 0. 0. 0. 0. 0. 0. 0. 0. 0. 0. 0. 0. 0. 0. 0.\n",
       "  0. 0. 0. 0. 0. 0. 0. 0. 0. 0. 0. 0. 0. 0. 0. 0. 0. 0. 0. 0. 0. 0. 0. 0.\n",
       "  0. 0. 0. 0. 0. 0. 0. 0. 0. 0. 0. 0. 0. 0. 0. 0. 0. 0. 0. 0. 0. 0. 0. 0.\n",
       "  0. 0. 0. 0. 0. 0. 0. 0. 0. 0. 0. 0. 0. 0. 0. 0. 0. 0. 0. 0. 0. 0. 0. 0.\n",
       "  0. 0. 0. 0. 0. 0. 0. 0. 0. 0. 0. 0. 0. 0. 0. 0. 0. 0. 0. 0. 0. 0. 0. 0.\n",
       "  0. 0. 0. 0. 0. 0. 0. 0. 0. 0. 0. 0. 0. 0. 0. 0. 0. 0. 0. 0. 0. 0. 0. 0.\n",
       "  0. 0. 0. 0. 0. 0. 0. 0. 0. 0. 0. 0. 0. 0. 0. 0. 0. 0. 0. 0. 0. 0. 0. 0.\n",
       "  0. 0. 0. 0. 0. 0. 0. 0. 0. 0. 0. 0. 0. 0. 0. 0. 0. 0. 0. 0. 0. 0. 0. 0.\n",
       "  0. 0. 0. 0. 0. 0. 0. 0. 0. 0. 0. 0. 0. 0. 0. 0. 0. 0. 0. 0. 0. 0. 0. 0.\n",
       "  0. 0. 0. 0. 0. 0. 0. 0. 0. 0. 0. 0. 0. 0. 0. 0. 0. 0. 0. 0. 0. 0. 0. 0.\n",
       "  0. 0. 0. 0. 0. 0. 0. 0. 0. 0. 0. 0. 0. 0. 0. 0. 0. 0. 0. 0. 0. 0. 0. 0.\n",
       "  0. 0. 0. 0. 0. 0. 0. 0. 0. 0. 0. 0. 0. 0. 0. 0. 0. 0. 0. 0. 0. 0. 0. 0.\n",
       "  0. 0. 0. 0. 0. 0. 0. 0. 0. 0. 0. 0. 0. 0. 0. 0. 0. 0. 0. 0. 0. 0. 0. 0.\n",
       "  0. 0. 0. 0. 0. 0. 0. 0. 0. 0. 0. 0. 0. 0. 0. 0. 0. 0. 0. 0. 0. 0. 0. 0.\n",
       "  0. 0. 0. 0. 0. 0. 0. 0. 0. 0. 0. 0. 0. 0. 0. 0. 0. 0. 0. 0. 0. 0. 0. 0.\n",
       "  0. 0. 0. 0. 0. 0. 0. 0. 0. 0. 0. 0. 0. 0. 0. 0. 0. 0. 0. 0. 0. 0. 0. 0.\n",
       "  0. 0. 0. 0. 0. 0. 0. 0. 0. 0. 0. 0. 0. 0. 0. 0. 0. 0. 0. 0. 0. 0. 0. 0.\n",
       "  0. 0. 0. 0. 0. 0. 0. 0. 0. 0. 0. 0. 0. 0. 0. 0. 0. 0. 0. 0. 0. 0. 0. 0.\n",
       "  0. 0. 0. 0. 0. 0. 0. 0. 0. 0. 0. 0. 0. 0. 0. 0. 0. 0. 0. 0. 0. 0. 0. 0.\n",
       "  0. 0. 0. 0. 0. 0. 0. 0. 0. 0. 0. 0. 0. 0. 0. 0. 0. 0. 0. 0. 0. 0. 0. 0.\n",
       "  0. 0. 0. 0. 0. 0. 0. 0. 0. 0. 0. 0. 0. 0. 0. 0. 0. 0. 0. 0. 0. 0. 0. 0.\n",
       "  0. 0. 0. 0. 0. 0. 0. 0. 0. 0. 0. 0. 0. 0. 0. 0. 0. 0. 0. 0. 0. 0. 0. 0.\n",
       "  0. 0. 0. 0. 0. 0. 0. 0. 0. 0. 0. 0. 0. 0. 0. 0. 0. 0. 0. 0. 0. 0. 0. 0.\n",
       "  0. 0. 0. 0. 0. 0. 0. 0. 0. 0. 0. 0. 0. 0. 0. 0. 0. 0. 0. 0. 0. 0. 0. 0.\n",
       "  0. 0. 0. 0. 0. 0. 0. 0. 0. 0. 0. 0. 0. 0. 0. 0. 0. 0. 0. 0. 0. 0. 0. 0.\n",
       "  0. 0. 0. 0. 0. 0. 0. 0. 0. 0. 0. 0. 0. 0. 0. 0. 0. 0. 0. 0. 0. 0. 0. 0.\n",
       "  0. 0. 0. 0. 0. 0. 0. 0. 0. 0. 0. 0. 0. 0. 0. 0. 0. 0. 0. 0. 0. 0. 0. 0.\n",
       "  0. 0. 0. 0. 0. 0. 0. 0. 0. 0. 0. 0. 0. 0. 0. 0. 0. 0. 0. 0. 0. 0. 0. 0.\n",
       "  0. 0. 0. 0. 0. 0. 0. 0. 0. 0. 0. 0. 0. 0. 0. 0. 0. 0. 0. 0. 0. 0. 0. 0.\n",
       "  0. 0. 0. 0. 0. 0. 0. 0. 0. 0. 0. 0. 0. 0. 0. 0. 0. 0. 0. 0. 0. 0. 0. 0.\n",
       "  0. 0. 0. 0. 0. 0. 0. 0. 0. 0. 0. 0. 0. 0. 0. 0. 0. 0. 0. 0. 0. 0. 0. 0.\n",
       "  0. 0. 0. 0. 0. 0. 0. 0. 0. 0. 0. 0. 0. 0. 0. 0.]\n",
       " Device:\n",
       " <pycuda._driver.DeviceAllocation object at 0x7f7fda896e20>]"
      ]
     },
     "execution_count": 12,
     "metadata": {},
     "output_type": "execute_result"
    }
   ],
   "source": [
    "outputs"
   ]
  },
  {
   "cell_type": "code",
   "execution_count": 13,
   "id": "74dffc16",
   "metadata": {},
   "outputs": [
    {
     "data": {
      "text/plain": [
       "[140186308922368, 140186308575232]"
      ]
     },
     "execution_count": 13,
     "metadata": {},
     "output_type": "execute_result"
    }
   ],
   "source": [
    "bindings"
   ]
  },
  {
   "cell_type": "code",
   "execution_count": 14,
   "id": "16dd37f0",
   "metadata": {},
   "outputs": [
    {
     "data": {
      "text/plain": [
       "<pycuda._driver.Stream at 0x7f7fda8875e0>"
      ]
     },
     "execution_count": 14,
     "metadata": {},
     "output_type": "execute_result"
    }
   ],
   "source": [
    "stream"
   ]
  },
  {
   "cell_type": "code",
   "execution_count": 15,
   "id": "eb86fdec",
   "metadata": {},
   "outputs": [
    {
     "name": "stdout",
     "output_type": "stream",
     "text": [
      "[07/01/2022-07:38:14] [TRT] [W] TensorRT was linked against cuDNN 8.4.1 but loaded cuDNN 8.4.0\n"
     ]
    }
   ],
   "source": [
    "context = engine.create_execution_context()"
   ]
  },
  {
   "cell_type": "code",
   "execution_count": 16,
   "id": "6045d91a",
   "metadata": {},
   "outputs": [
    {
     "data": {
      "text/plain": [
       "<tensorrt.tensorrt.IExecutionContext at 0x7f80e91b64b0>"
      ]
     },
     "execution_count": 16,
     "metadata": {},
     "output_type": "execute_result"
    }
   ],
   "source": [
    "context"
   ]
  },
  {
   "cell_type": "code",
   "execution_count": 37,
   "id": "68c2b2bb",
   "metadata": {},
   "outputs": [],
   "source": [
    "import torch\n",
    "import numpy as np\n",
    "device = torch.device('cuda:0') if torch.cuda.is_available() else torch.device('cpu')\n",
    "\n",
    "def to_numpy(tensor):\n",
    "    return tensor.detach().cpu().numpy() if tensor.requires_grad else tensor.cpu().numpy()\n",
    "\n",
    "\n",
    "input_data = torch.randn(1,3, 224, 224).to(device)\n",
    "input_data = to_numpy(input_data)"
   ]
  },
  {
   "cell_type": "code",
   "execution_count": 38,
   "id": "a74b0d3f",
   "metadata": {},
   "outputs": [
    {
     "data": {
      "text/plain": [
       "array([[[[ 0.08432246, -0.1058276 , -0.62954396, ...,  0.17907499,\n",
       "          -1.1518197 ,  0.5685717 ],\n",
       "         [-0.07185556,  0.64454466,  0.5704944 , ...,  0.17724264,\n",
       "           1.0886189 , -0.55334747],\n",
       "         [-0.5438037 , -0.75219506, -1.5515512 , ..., -0.88678896,\n",
       "           0.12020984,  0.01209653],\n",
       "         ...,\n",
       "         [-0.3059578 ,  0.33755505,  2.3349192 , ...,  0.66597223,\n",
       "           0.1955215 ,  1.4519386 ],\n",
       "         [-1.1752409 ,  2.2817771 , -0.1215327 , ..., -0.5537824 ,\n",
       "          -0.6690678 , -0.68045217],\n",
       "         [-1.6394802 , -1.424426  ,  2.3718534 , ...,  1.7265902 ,\n",
       "          -0.7573196 ,  1.3781017 ]],\n",
       "\n",
       "        [[ 2.7504265 , -0.47550508, -1.035468  , ..., -0.6198801 ,\n",
       "           2.159974  , -1.6373792 ],\n",
       "         [ 2.1746905 , -1.6749792 , -0.42819417, ..., -0.16059761,\n",
       "           0.9148622 ,  0.35861462],\n",
       "         [ 0.37983966, -0.3215695 , -0.5373664 , ...,  0.08511668,\n",
       "           1.1830088 ,  1.9882578 ],\n",
       "         ...,\n",
       "         [ 2.1545713 , -0.7136638 ,  0.45982885, ..., -1.0315162 ,\n",
       "          -0.3905749 , -0.6832316 ],\n",
       "         [ 1.645461  ,  0.0690968 ,  0.7203505 , ..., -0.71399707,\n",
       "          -0.99240947, -0.7243259 ],\n",
       "         [ 0.4608039 , -0.61536217, -0.7373911 , ...,  1.2132989 ,\n",
       "           0.7820003 , -0.6346681 ]],\n",
       "\n",
       "        [[-0.5184795 ,  0.23591606, -0.6468164 , ..., -1.459963  ,\n",
       "          -0.6856147 , -1.8685337 ],\n",
       "         [-1.3876041 ,  0.69740945, -1.0916966 , ..., -2.053104  ,\n",
       "           0.37061405, -1.0507677 ],\n",
       "         [ 0.24613613, -1.1821215 ,  0.50388   , ...,  0.11130397,\n",
       "           0.35129297,  0.16025768],\n",
       "         ...,\n",
       "         [-1.3792683 , -1.4647214 ,  0.47620434, ..., -0.28331327,\n",
       "           0.06629964, -0.5000145 ],\n",
       "         [ 0.27648294, -0.8364554 ,  1.4141315 , ...,  0.5857904 ,\n",
       "           0.26244822,  0.9052469 ],\n",
       "         [ 1.4450252 , -0.5355767 ,  0.5609143 , ...,  1.0956559 ,\n",
       "           0.9965513 ,  0.1934245 ]]]], dtype=float32)"
      ]
     },
     "execution_count": 38,
     "metadata": {},
     "output_type": "execute_result"
    }
   ],
   "source": [
    "input_data"
   ]
  },
  {
   "cell_type": "code",
   "execution_count": 1,
   "id": "cd6e5499",
   "metadata": {},
   "outputs": [],
   "source": [
    "def do_inference(context, bindings, inputs, outputs, stream, batch_size=1):\n",
    "    # Transfer input data to the GPU.\n",
    "    [cuda.memcpy_htod_async(inp.device, inp.host, stream) for inp in inputs]\n",
    "    # Run inference.\n",
    "    context.execute_async(batch_size=batch_size, bindings=bindings, stream_handle=stream.handle)\n",
    "    # Transfer predictions back from the GPU.\n",
    "    [cuda.memcpy_dtoh_async(out.host, out.device, stream) for out in outputs]\n",
    "    # Synchronize the stream\n",
    "    stream.synchronize()\n",
    "    # Return only the host outputs.\n",
    "    return [out.host for out in outputs]"
   ]
  },
  {
   "cell_type": "code",
   "execution_count": 17,
   "id": "9bb946ac",
   "metadata": {},
   "outputs": [],
   "source": [
    "# This function is generalized for multiple inputs/outputs for full dimension networks.\n",
    "# inputs and outputs are expected to be lists of HostDeviceMem objects.\n",
    "def do_inference_v2(context, bindings, inputs, outputs, stream):\n",
    "    # Transfer input data to the GPU.\n",
    "    [cuda.memcpy_htod_async(inp.device, inp.host, stream) for inp in inputs]\n",
    "    # Run inference.\n",
    "    context.execute_async_v2(bindings=bindings, stream_handle=stream.handle)\n",
    "    # Transfer predictions back from the GPU.\n",
    "    [cuda.memcpy_dtoh_async(out.host, out.device, stream) for out in outputs]\n",
    "    # Synchronize the stream\n",
    "    stream.synchronize()\n",
    "    # Return only the host outputs.\n",
    "    return [out.host for out in outputs]"
   ]
  },
  {
   "cell_type": "code",
   "execution_count": null,
   "id": "9e5613e8",
   "metadata": {},
   "outputs": [],
   "source": [
    "hosts = [input.host for input in inputs]\n",
    "trt_types = [trt.int32, trt.int32, trt.int32]"
   ]
  },
  {
   "cell_type": "code",
   "execution_count": 43,
   "id": "9dd8a99e",
   "metadata": {},
   "outputs": [
    {
     "name": "stdout",
     "output_type": "stream",
     "text": [
      "Host:\n",
      "[0. 0. 0. ... 0. 0. 0.]\n",
      "Device:\n",
      "<pycuda._driver.DeviceAllocation object at 0x7f7fda896ac0>\n",
      "<class '__main__.HostDeviceMem'>\n",
      "<pycuda._driver.DeviceAllocation object at 0x7f7fda896ac0>\n",
      "150528\n",
      "<class 'numpy.ndarray'>\n"
     ]
    }
   ],
   "source": [
    "for input in inputs:\n",
    "    print(input)\n",
    "    print(type(input))\n",
    "    print(input.device)\n",
    "    print(len(input.host))\n",
    "    print(type(input.host))\n",
    "    np.copyto(input.host,np.ravel(input_data))"
   ]
  },
  {
   "cell_type": "code",
   "execution_count": 47,
   "id": "9fd9d45b",
   "metadata": {},
   "outputs": [
    {
     "data": {
      "text/plain": [
       "<tensorrt.tensorrt.IExecutionContext at 0x7f80e91b64b0>"
      ]
     },
     "execution_count": 47,
     "metadata": {},
     "output_type": "execute_result"
    }
   ],
   "source": [
    "context"
   ]
  },
  {
   "cell_type": "code",
   "execution_count": 48,
   "id": "af33dcf0",
   "metadata": {},
   "outputs": [
    {
     "data": {
      "text/plain": [
       "[140186308922368, 140186308575232]"
      ]
     },
     "execution_count": 48,
     "metadata": {},
     "output_type": "execute_result"
    }
   ],
   "source": [
    "bindings"
   ]
  },
  {
   "cell_type": "code",
   "execution_count": 44,
   "id": "cc7a0dcb",
   "metadata": {},
   "outputs": [
    {
     "name": "stdout",
     "output_type": "stream",
     "text": [
      "[07/01/2022-07:44:34] [TRT] [E] 1: [convolutionRunner.cpp::execute::213] Error Code 1: Cask (Cask convolution execution)\n",
      "[07/01/2022-07:44:34] [TRT] [E] 1: [checkMacros.cpp::catchCudaError::278] Error Code 1: Cuda Runtime (invalid resource handle)\n"
     ]
    }
   ],
   "source": [
    "trt_outputs = do_inference_v2(\n",
    "                        context=context,\n",
    "                        bindings=bindings,\n",
    "                        inputs=inputs,\n",
    "                        outputs=outputs,\n",
    "                        stream=stream)"
   ]
  },
  {
   "cell_type": "code",
   "execution_count": 13,
   "id": "afddfa0e",
   "metadata": {},
   "outputs": [
    {
     "name": "stdout",
     "output_type": "stream",
     "text": [
      "<tensorrt.tensorrt.ICudaEngine object at 0x7f6b05e06cb0>\n",
      "(1, 3, 416, 416)\n",
      "1\n",
      "519168\n",
      "<class 'numpy.float32'>\n",
      "519168\n",
      "140093977264128\n",
      "(1, 125, 13, 13)\n",
      "1\n",
      "21125\n",
      "<class 'numpy.float32'>\n",
      "21125\n",
      "140093997177344\n",
      "[07/08/2022-08:27:57] [TRT] [W] The getMaxBatchSize() function should not be used with an engine built from a network created with NetworkDefinitionCreationFlag::kEXPLICIT_BATCH flag. This function will always return 1.\n",
      "[07/08/2022-08:27:57] [TRT] [W] The getMaxBatchSize() function should not be used with an engine built from a network created with NetworkDefinitionCreationFlag::kEXPLICIT_BATCH flag. This function will always return 1.\n",
      "[07/08/2022-08:27:57] [TRT] [W] The getMaxBatchSize() function should not be used with an engine built from a network created with NetworkDefinitionCreationFlag::kEXPLICIT_BATCH flag. This function will always return 1.\n",
      "[07/08/2022-08:27:57] [TRT] [W] The getMaxBatchSize() function should not be used with an engine built from a network created with NetworkDefinitionCreationFlag::kEXPLICIT_BATCH flag. This function will always return 1.\n",
      "여기 <pycuda._driver.DeviceAllocation object at 0x7f6b013e3340>\n",
      "여기 [ 0.11053482 -1.0498785   2.0703533  ...  0.642925    1.116644\n",
      " -1.3005369 ]\n",
      "[140093977264128, 140093997177344]\n"
     ]
    },
    {
     "name": "stderr",
     "output_type": "stream",
     "text": [
      "/tmp/ipykernel_2093446/773277678.py:42: DeprecationWarning: Use network created with NetworkDefinitionCreationFlag::EXPLICIT_BATCH flag instead.\n",
      "  print(engine.max_batch_size)\n",
      "/tmp/ipykernel_2093446/773277678.py:43: DeprecationWarning: Use network created with NetworkDefinitionCreationFlag::EXPLICIT_BATCH flag instead.\n",
      "  size = trt.volume(engine.get_binding_shape(binding)) * engine.max_batch_size\n"
     ]
    }
   ],
   "source": [
    "# 싱글 thread 에서 처리해야함. https://forums.developer.nvidia.com/t/tensorrt-do-inference-error/77055/3\n",
    "\n",
    "import tensorrt as trt\n",
    "import pycuda.driver as cuda\n",
    "import pycuda.autoinit # https://forums.developer.nvidia.com/t/logicerror-explicit-context-dependent-failed-invalid-device-context-no-currently-active-context/64149\n",
    "import torch\n",
    "import numpy as np\n",
    "\n",
    "#onnxModelPath = '/datadrive/tensorrt/test_onnx'\n",
    "tensorrt_file_name = '/datadrive/tensorrt/tinyyolov2-8.trt'\n",
    "\n",
    "# create builder <- optimization profile, Takes a network in TensorRT and generates an engine that is optimized for the target platform. \n",
    "TRT_LOGGER = trt.Logger(trt.Logger.WARNING)\n",
    "trt_runtime = trt.Runtime(TRT_LOGGER)\n",
    "\n",
    "EXPLICIT_BATCH = 1 << (int)(trt.NetworkDefinitionCreationFlag.EXPLICIT_BATCH)\n",
    "\n",
    "with open(tensorrt_file_name, 'rb') as f:\n",
    "    engine_data = f.read()\n",
    "engine = trt_runtime.deserialize_cuda_engine(engine_data)\n",
    "print(engine)\n",
    "\n",
    "class HostDeviceMem(object):\n",
    "    def __init__(self, host_mem, device_mem):\n",
    "        self.host = host_mem\n",
    "        self.device = device_mem\n",
    "\n",
    "    def __str__(self):\n",
    "        return \"Host:\\n\" + str(self.host) + \"\\nDevice:\\n\" + str(self.device)\n",
    "\n",
    "    def __repr__(self):\n",
    "        return self.__str__()\n",
    "    \n",
    "inputs = []\n",
    "outputs = []\n",
    "bindings = []\n",
    "stream = cuda.Stream()\n",
    "context = engine.create_execution_context()\n",
    "\n",
    "for binding in engine:\n",
    "    print(engine.get_binding_shape(binding))\n",
    "    print(engine.max_batch_size)\n",
    "    size = trt.volume(engine.get_binding_shape(binding)) * engine.max_batch_size\n",
    "    print(size)\n",
    "    dtype = trt.nptype(engine.get_binding_dtype(binding)) #float 32 안됨\n",
    "    print(dtype)\n",
    "    host_mem = cuda.pagelocked_empty(size, dtype)\n",
    "    print(len(host_mem))\n",
    "    device_mem = cuda.mem_alloc(host_mem.nbytes)\n",
    "    print(int(device_mem))\n",
    "    bindings.append(int(device_mem))\n",
    "    # Append to the appropriate list.\n",
    "    if engine.binding_is_input(binding):\n",
    "        inputs.append(HostDeviceMem(host_mem, device_mem))\n",
    "    else:\n",
    "        outputs.append(HostDeviceMem(host_mem, device_mem))\n",
    "       \n",
    "# for inp in inputs:\n",
    "#     print(inp.host.shape)\n",
    "\n",
    "# for oup in outputs:\n",
    "#     print(oup.host.shape)\n",
    "#     print(oup.device)\n",
    "#     print(stream)\n",
    "\n",
    "device = torch.device('cuda:0') if torch.cuda.is_available() else torch.device('cpu')\n",
    "def to_numpy(tensor):\n",
    "    return tensor.detach().cpu().numpy() if tensor.requires_grad else tensor.cpu().numpy()\n",
    "\n",
    "\n",
    "input_data = torch.randn(1,3, 416, 416).to(device)\n",
    "input_data = to_numpy(input_data)\n",
    "\n",
    "for input in inputs:\n",
    "    np.copyto(input.host,np.ravel(input_data))\n",
    "\n",
    "# This function is generalized for multiple inputs/outputs for full dimension networks.\n",
    "# inputs and outputs are expected to be lists of HostDeviceMem objects.\n",
    "def do_inference_v2(context, bindings, inputs, outputs, stream):\n",
    "    # Transfer input data to the GPU.\n",
    "    [cuda.memcpy_htod_async(inp.device, inp.host, stream) for inp in inputs]\n",
    "    # Run inference.\n",
    "    context.execute_async_v2(bindings=bindings, stream_handle=stream.handle)\n",
    "    # Transfer predictions back from the GPU.\n",
    "    [cuda.memcpy_dtoh_async(out.host, out.device, stream) for out in outputs]\n",
    "    # Synchronize the stream\n",
    "    stream.synchronize()\n",
    "    # Return only the host outputs.\n",
    "    return [out.host for out in outputs]\n",
    "\n",
    "trt_outputs = do_inference_v2(\n",
    "                        context=context,\n",
    "                        bindings=bindings,\n",
    "                        inputs=inputs,\n",
    "                        outputs=outputs,\n",
    "                        stream=stream)"
   ]
  },
  {
   "cell_type": "code",
   "execution_count": 185,
   "id": "a168901a",
   "metadata": {},
   "outputs": [],
   "source": [
    "output_shapes=[(1, 125, 13, 13)]\n",
    "trt_outputs = [output.reshape(shape) for output, shape in zip(trt_outputs,output_shapes)]"
   ]
  },
  {
   "cell_type": "code",
   "execution_count": 189,
   "id": "7baa06ec",
   "metadata": {
    "scrolled": true
   },
   "outputs": [
    {
     "data": {
      "text/plain": [
       "(1, 125, 13, 13)"
      ]
     },
     "execution_count": 189,
     "metadata": {},
     "output_type": "execute_result"
    }
   ],
   "source": [
    "trt_outputs[0].shape"
   ]
  },
  {
   "cell_type": "code",
   "execution_count": 187,
   "id": "cd746b54",
   "metadata": {},
   "outputs": [
    {
     "data": {
      "text/plain": [
       "(1, 125, 13, 13)"
      ]
     },
     "execution_count": 187,
     "metadata": {},
     "output_type": "execute_result"
    }
   ],
   "source": [
    "trt_outputs[0].shape"
   ]
  },
  {
   "cell_type": "code",
   "execution_count": 204,
   "id": "b6e874bf",
   "metadata": {},
   "outputs": [
    {
     "ename": "AttributeError",
     "evalue": "'Stream' object has no attribute 'ptr'",
     "output_type": "error",
     "traceback": [
      "\u001b[0;31m---------------------------------------------------------------------------\u001b[0m",
      "\u001b[0;31mAttributeError\u001b[0m                            Traceback (most recent call last)",
      "Input \u001b[0;32mIn [204]\u001b[0m, in \u001b[0;36m<cell line: 2>\u001b[0;34m()\u001b[0m\n\u001b[1;32m      1\u001b[0m stream \u001b[38;5;241m=\u001b[39m cuda\u001b[38;5;241m.\u001b[39mStream()\n\u001b[0;32m----> 2\u001b[0m \u001b[43mstream\u001b[49m\u001b[38;5;241;43m.\u001b[39;49m\u001b[43mptr\u001b[49m\n",
      "\u001b[0;31mAttributeError\u001b[0m: 'Stream' object has no attribute 'ptr'"
     ]
    }
   ],
   "source": [
    "stream = cuda.Stream()\n",
    "stream.ptr"
   ]
  },
  {
   "cell_type": "code",
   "execution_count": 164,
   "id": "ba465347",
   "metadata": {},
   "outputs": [
    {
     "data": {
      "text/plain": [
       "array([-1.56515121e+00,  8.79994214e-01,  1.44220531e+00,  6.32113218e-01,\n",
       "        2.04498124e+00,  3.09517169e+00,  2.23589587e+00,  7.49750733e-02,\n",
       "       -6.05003946e-02, -1.34477878e+00, -8.74073029e-01,  1.42090356e+00,\n",
       "        1.12184203e+00,  7.01641440e-01,  2.76940525e-01,  1.66452599e+00,\n",
       "        9.67540860e-01,  7.01651633e-01,  3.51729250e+00,  3.27162713e-01,\n",
       "        1.59683645e-01,  1.11701861e-01,  7.36026615e-02,  5.57369590e-01,\n",
       "       -4.28803980e-01, -1.12783074e+00,  3.00756395e-01,  7.66739845e-01,\n",
       "       -5.59235036e-01, -1.02722609e+00, -1.25582433e+00,  1.08535779e+00,\n",
       "       -2.44438195e+00, -3.58368576e-01,  8.28549206e-01, -2.27776170e+00,\n",
       "       -7.86838889e-01, -2.33976260e-01,  1.55161291e-01, -7.64069259e-02,\n",
       "        1.25982094e+00, -6.06426895e-01,  1.17203593e+00, -1.10183573e+00,\n",
       "        5.14742911e-01, -5.04573882e-01,  2.04487610e+00, -2.26586461e+00,\n",
       "        5.46271503e-02, -2.06705260e+00, -5.75847387e-01, -2.49466825e+00,\n",
       "        4.59031105e-01, -2.78504014e-01, -1.89629421e-01, -5.24371788e-02,\n",
       "       -1.08487177e+00, -2.27664757e+00,  1.17203042e-01, -3.06877851e-01,\n",
       "        5.66205025e-01, -2.32049727e+00, -1.64696252e+00, -1.67557907e+00,\n",
       "       -1.00771499e+00,  1.14248645e+00, -1.07888699e+00, -4.39499706e-01,\n",
       "       -1.58839226e+00,  8.04817438e-01, -1.51223505e+00,  2.72560287e+00,\n",
       "       -1.18735325e+00,  5.82680285e-01, -2.92795658e-01,  2.03759480e+00,\n",
       "        6.85121059e-01,  1.56945920e+00,  3.80508184e+00,  3.45957112e+00,\n",
       "       -1.12671897e-01,  7.82649934e-01,  1.75406098e-01, -3.53002846e-01,\n",
       "        2.92168283e+00,  1.94727051e+00,  5.34268141e-01,  5.78794956e-01,\n",
       "        1.86488941e-01,  1.77906060e+00,  3.59896980e-02,  1.38022341e-02,\n",
       "        1.10756695e+00,  1.06262696e+00,  1.95797062e+00, -2.45456076e+00,\n",
       "        1.18023062e+00, -1.26099682e+00, -1.52792346e+00,  1.48024952e+00,\n",
       "       -1.42656040e+00, -3.30270123e+00, -9.94035482e-01,  2.00360015e-01,\n",
       "       -8.55048776e-01, -1.85532200e+00, -5.65319300e-01,  4.27620173e+00,\n",
       "        1.04991451e-01,  3.18119669e+00,  3.11566091e+00,  4.19771147e+00,\n",
       "        1.30843866e+00,  1.78007615e+00,  3.83319879e+00,  2.15958047e+00,\n",
       "       -8.52604508e-01,  3.00392777e-01,  8.93511772e-01, -1.15026402e+00,\n",
       "       -1.19997847e+00, -1.74155080e+00, -1.51436758e+00, -1.70960140e+00,\n",
       "       -4.61090207e-02, -8.35286498e-01,  3.08236390e-01,  4.27276164e-01,\n",
       "        5.25024354e-01, -1.55474138e+00, -2.22824359e+00, -1.17535400e+00,\n",
       "       -8.46273750e-02,  2.25479193e-02, -5.30928910e-01, -1.31954801e+00,\n",
       "       -1.28799248e+00, -1.09295273e+00,  1.28208101e+00, -1.65516293e+00,\n",
       "       -2.26505303e+00, -2.17141286e-01, -2.58758187e+00, -1.11786401e+00,\n",
       "       -7.71699369e-01,  1.78076291e+00,  3.32603842e-01,  7.10078537e-01,\n",
       "        2.21266136e-01,  6.87115550e-01, -4.80416328e-01, -5.47838926e-01,\n",
       "       -3.17594242e+00, -6.69155478e-01, -5.07786214e-01, -7.86903799e-01,\n",
       "       -3.69029140e+00, -1.95269942e+00, -2.30181217e+00, -2.07968807e+00,\n",
       "       -3.58294344e+00, -1.17100596e+00, -6.68955594e-03, -2.23246717e+00,\n",
       "       -1.12840438e+00, -2.81882596e+00, -2.40474296e+00, -5.35604239e+00,\n",
       "       -1.15836489e+00, -3.62897944e+00, -3.53294206e+00, -2.03435987e-01,\n",
       "       -2.42934299e+00, -2.05559397e+00, -9.85146403e-01, -3.63731503e+00,\n",
       "       -4.86585808e+00, -4.17175055e+00, -7.99976170e-01, -1.30952144e+00,\n",
       "       -1.48307526e+00, -2.47160745e+00, -6.72464669e-01, -1.84389424e+00,\n",
       "       -2.37025523e+00, -5.96940160e-01, -5.98662376e-01, -4.10334796e-01,\n",
       "       -3.98187351e+00, -1.27239084e+00, -2.03151202e+00, -1.98860574e+00,\n",
       "        5.80328941e-01, -1.93595290e+00, -2.75286055e+00,  1.12180161e+00,\n",
       "       -1.04331017e+00, -2.55426884e+00, -2.09624481e+00, -1.75063327e-01,\n",
       "       -2.33161473e+00, -1.09840715e+00, -6.14484608e-01,  8.90485406e-01,\n",
       "       -8.99335504e-01, -3.44446921e+00, -3.92820382e+00, -2.52842879e+00,\n",
       "       -1.51224482e+00, -2.18008399e+00, -2.17791557e+00, -9.61721122e-01,\n",
       "       -2.05860400e+00, -2.03301525e+00, -2.27048230e+00, -2.24918532e+00,\n",
       "       -1.99001837e+00, -2.43859231e-01, -2.26929927e+00, -3.84342879e-01,\n",
       "       -3.55047798e+00, -1.30541539e+00, -4.11337280e+00, -4.73733693e-01,\n",
       "       -2.79267263e+00, -1.32097566e+00, -3.44435453e+00, -1.77545691e+00,\n",
       "       -3.27106929e+00, -1.33733690e+00, -2.11269236e+00, -2.34527373e+00,\n",
       "       -1.95163214e+00, -3.63278794e+00, -2.01204419e+00, -1.74155712e+00,\n",
       "       -2.03139067e+00, -7.34222889e-01, -2.45934582e+00, -2.71458507e+00,\n",
       "       -2.90244675e+00, -3.08769774e+00, -5.50594389e-01, -2.01778364e+00,\n",
       "       -5.08776808e+00,  6.88271165e-01, -3.15030551e+00, -2.10812163e+00,\n",
       "       -7.49816716e-01, -1.73631907e+00, -9.61694717e-01, -7.89150774e-01,\n",
       "       -2.26845050e+00, -1.20012498e+00, -4.91264999e-01, -4.56559134e+00,\n",
       "       -2.40666890e+00, -2.18854594e+00, -1.07720292e+00, -1.68609470e-01,\n",
       "       -1.95539343e+00, -1.36357224e+00, -3.37173104e+00, -7.70630777e-01,\n",
       "       -1.10594428e+00, -3.56569588e-01, -8.76415670e-01, -2.53067493e+00,\n",
       "       -3.27990746e+00, -3.83301115e+00, -2.79092526e+00, -3.93207121e+00,\n",
       "       -1.56065094e+00, -2.19973850e+00, -3.05350041e+00, -2.33138680e+00,\n",
       "       -2.24472880e+00, -3.30814451e-01, -9.93968368e-01,  3.14404428e-01,\n",
       "       -7.14585662e-01,  1.39923859e+00,  1.50810504e+00,  1.23235548e+00,\n",
       "        2.53018212e+00,  1.53815258e+00, -2.70624804e+00, -1.81399441e+00,\n",
       "       -1.41176653e+00, -1.98863912e+00, -3.30637693e+00, -4.01250029e+00,\n",
       "       -2.72089338e+00, -3.24724972e-01, -2.47821546e+00, -1.98712873e+00,\n",
       "       -9.62531865e-01, -2.72412276e+00, -6.20917082e-01, -1.25132605e-01,\n",
       "       -1.33618903e+00,  4.14346266e+00,  9.52404022e-01,  2.00553894e+00,\n",
       "        9.61321592e-01,  2.11301938e-01,  1.75617301e+00,  2.04028034e+00,\n",
       "        2.86876678e+00,  1.36617601e+00,  4.12142944e+00,  6.10567987e-01,\n",
       "        3.65468562e-01,  2.05190277e+00,  1.44874704e+00,  2.18185449e+00,\n",
       "        1.78190887e-01,  1.24778521e+00,  2.82494211e+00,  1.13473511e+00,\n",
       "        1.15654814e+00, -2.44793582e+00, -2.70704412e+00,  6.63174689e-02,\n",
       "       -1.47631097e+00, -1.08656132e+00, -5.59515774e-01,  1.19296801e+00,\n",
       "        1.06433904e+00,  2.88754046e-01,  6.43953919e-01,  9.00996447e-01,\n",
       "        8.10163856e-01,  1.32499433e+00, -1.06131606e-01, -3.39719385e-01,\n",
       "        4.52481717e-01, -1.08809626e+00, -1.58061171e+00, -3.14277530e+00,\n",
       "       -2.65150976e+00, -3.79696560e+00, -3.65270162e+00, -3.20802021e+00,\n",
       "       -3.20927048e+00, -4.16606092e+00, -3.84323931e+00, -2.38981342e+00,\n",
       "       -2.71988320e+00, -3.42518997e+00, -2.65675712e+00, -2.40784240e+00,\n",
       "       -3.06548333e+00, -1.08266544e+00, -2.01466584e+00, -1.31375885e+00,\n",
       "        1.22557724e+00, -1.07445693e+00,  4.83016104e-01,  3.19244325e-01,\n",
       "       -2.89892292e+00,  1.21909082e+00,  4.71371353e-01,  1.19869244e+00,\n",
       "       -2.47680378e+00, -2.19431162e+00, -2.43792009e+00, -2.02586722e+00,\n",
       "       -2.72903991e+00, -2.83096695e+00, -2.95454526e+00, -4.07633877e+00,\n",
       "       -2.07113171e+00, -1.54891980e+00, -3.05540228e+00, -3.71452975e+00,\n",
       "       -3.79968643e+00, -1.38665867e+00, -2.96221995e+00, -3.68810749e+00,\n",
       "       -1.89743423e+00, -2.75189042e+00, -1.94478893e+00, -1.27143538e+00,\n",
       "       -2.69908047e+00, -3.94180679e+00, -2.57630610e+00, -2.90388942e+00,\n",
       "       -1.85616577e+00, -1.14965963e+00,  1.06349850e+00,  6.83116496e-01,\n",
       "       -1.77206218e-01,  1.03505886e+00, -2.04044318e+00, -6.05719164e-03,\n",
       "       -1.17947444e-01,  9.43511307e-01,  1.08711958e+00,  4.38869059e-01,\n",
       "       -2.69907594e+00, -2.18256265e-01,  1.22927105e+00, -1.21376991e+00,\n",
       "       -6.86512172e-01,  6.24190450e-01, -1.91518700e+00, -2.74935889e+00,\n",
       "       -3.92207766e+00,  2.71714020e+00, -1.81646872e+00,  2.72927165e+00,\n",
       "        2.35297060e+00,  4.84707326e-01,  5.47513127e-01, -1.06930768e+00,\n",
       "        1.16871548e+00,  2.50775528e+00,  4.26019621e+00,  1.78269982e+00,\n",
       "        6.79254830e-01,  1.60993743e+00, -2.54856896e+00, -1.40445244e+00,\n",
       "       -1.24082601e+00,  3.55111331e-01,  2.13634920e+00, -5.87745786e-01,\n",
       "       -6.67636812e-01,  1.35993397e+00, -6.85134351e-01, -1.25685906e+00,\n",
       "        1.13437676e+00,  1.40451491e+00,  1.03682506e+00,  1.66747779e-01,\n",
       "       -8.91122460e-01,  1.42008626e+00,  7.46037483e-01, -3.58255315e+00,\n",
       "        2.00751758e+00,  2.13022208e+00,  9.72173989e-01,  3.11429596e+00,\n",
       "       -2.24772906e+00, -1.29861474e+00,  6.20527601e+00, -9.60748419e-02,\n",
       "       -4.35824364e-01, -2.91383982e+00, -3.62770700e+00,  1.16405153e+00,\n",
       "        1.66017926e+00,  5.02225101e-01, -7.84492016e-01,  3.67316389e+00,\n",
       "        3.12129676e-01,  2.61364341e+00,  3.28732371e+00,  5.26500702e-01,\n",
       "        1.54033422e-01,  1.29033792e+00,  3.57087398e+00,  1.13090134e+00,\n",
       "        1.25312185e+00, -2.07160187e+00, -3.57966518e+00, -1.86390758e+00,\n",
       "        6.22247681e-02,  3.15540820e-01,  3.24534249e+00, -3.72656554e-01,\n",
       "       -1.51836467e+00,  2.35808468e+00,  1.20571542e+00, -3.63556206e-01,\n",
       "       -4.91598797e+00, -4.51875389e-01,  2.47138000e+00, -2.09742337e-01,\n",
       "        1.77677500e+00,  1.29879367e+00,  1.30268574e+00, -1.89356768e+00,\n",
       "       -9.45931971e-01,  9.88227069e-01, -3.25975507e-01,  9.54754770e-01,\n",
       "        4.10229874e+00,  1.38767207e+00,  4.13224077e+00, -1.50933191e-01,\n",
       "        1.05545807e+00, -7.55841672e-01,  1.16548061e+00, -1.06024146e-01,\n",
       "        5.87952137e-01,  5.90500772e-01,  1.77562845e+00,  2.70703220e+00,\n",
       "       -2.42643118e+00,  1.20955145e+00, -1.05821216e+00,  1.49054670e+00,\n",
       "        1.99357224e+00,  1.91419435e+00,  1.95340276e+00,  2.79990792e-01,\n",
       "        1.94439924e+00, -9.58801150e-01, -1.81297171e+00, -1.19418561e+00,\n",
       "        3.61401200e+00,  8.84883940e-01, -1.39650386e-02,  1.42477942e+00,\n",
       "       -4.62627172e-01,  2.57841396e+00,  6.03778064e-02,  2.23128319e-01,\n",
       "       -1.90238073e-01,  6.65932298e-01,  4.33241427e-01,  5.84944963e-01,\n",
       "        7.18321085e-01, -1.57301342e+00, -6.08534634e-01,  8.94242764e-01,\n",
       "        1.89026082e+00, -5.40364146e-01,  2.40084505e+00,  4.51751947e-01,\n",
       "       -1.17309344e+00,  1.45299864e+00,  2.86423492e+00, -4.57408714e+00,\n",
       "       -5.03229856e-01, -3.30050516e+00,  3.71139073e+00,  4.45208645e+00,\n",
       "        1.61832714e+00,  1.40338555e-01,  2.76019812e+00,  1.26721598e-02,\n",
       "       -6.84771419e-01,  1.55085695e+00, -3.71195197e-01, -4.18309212e+00,\n",
       "       -1.11045814e+00,  5.87701130e+00, -7.64232755e-01, -1.37505859e-01,\n",
       "        3.60491800e+00,  7.60765560e-03,  4.85438347e-01, -5.14189601e-01,\n",
       "        2.15354204e+00,  2.94783783e+00,  1.06616735e+00,  7.57894278e-01,\n",
       "        3.55916560e-01, -5.30019343e-01,  3.47115016e+00,  2.94361877e+00,\n",
       "       -2.15175581e+00, -1.02371442e+00, -3.52794975e-01,  2.03485489e+00,\n",
       "       -5.25923848e-01, -3.50820112e+00,  5.43927073e-01, -1.12285137e+00,\n",
       "        1.83412695e+00, -3.90206504e+00,  3.48356986e+00, -2.97237873e+00,\n",
       "       -3.37401199e+00,  1.34432089e+00,  1.13848913e+00,  1.11993067e-01,\n",
       "        1.06097066e+00,  2.58665943e+00, -1.71054411e+00,  7.39186823e-01,\n",
       "        2.08453965e+00,  1.02117634e+00, -3.20451832e+00,  3.90276814e+00,\n",
       "        2.20606208e+00,  1.42798007e+00,  1.26693770e-01,  2.57223320e+00,\n",
       "        3.75740737e-01,  2.72505611e-01, -2.05985713e+00, -5.10157883e-01,\n",
       "        1.79773629e+00,  1.20718801e+00,  2.15103531e+00,  3.19602203e+00,\n",
       "        4.04062223e+00,  9.73842859e-01, -1.27608657e+00, -6.66641378e+00,\n",
       "        1.37000585e+00,  1.00226140e+00,  2.40640950e+00,  9.37805831e-01,\n",
       "        2.13847065e+00, -2.61662698e+00,  1.16751635e+00,  2.07169724e+00,\n",
       "       -2.85149550e+00,  2.66947579e+00, -1.20826864e+00, -4.24595624e-01,\n",
       "        2.46871877e+00,  8.31151247e-01,  3.42161870e+00,  3.86436200e+00,\n",
       "        3.12158370e+00, -1.45727777e+00,  2.55308485e+00,  5.18129539e+00,\n",
       "       -5.77666387e-02, -2.24229240e+00,  3.79357004e+00, -4.08208323e+00,\n",
       "       -3.70044708e-01,  1.99349189e+00, -1.32737148e+00,  9.26755428e-01,\n",
       "        3.55738521e+00,  2.34718537e+00, -1.71463442e+00,  1.69532013e+00,\n",
       "        2.09966421e+00,  1.08910954e+00, -3.91393863e-02, -1.58581689e-01,\n",
       "        2.92464876e+00,  8.10590088e-01,  9.06367838e-01,  7.56422162e-01,\n",
       "        6.08260059e+00, -2.35696346e-01,  9.08149004e-01,  1.36945939e+00,\n",
       "        7.34668255e-01,  2.88703012e+00,  3.17394280e+00,  1.58033121e+00,\n",
       "       -2.34574533e+00, -1.18617582e+00, -3.15241766e+00,  2.04916120e+00,\n",
       "       -3.05679727e+00,  2.70099497e+00,  2.45845214e-01,  1.09111321e+00,\n",
       "       -1.31573176e+00, -3.33134747e+00,  1.53728533e+00, -1.99998128e+00,\n",
       "        2.68046069e+00, -1.91115594e+00,  2.56791800e-01,  4.94952388e-02,\n",
       "        1.52431321e+00,  1.92756140e+00, -1.67733216e+00, -3.90409112e+00,\n",
       "       -1.62702787e+00,  3.06938124e+00,  2.60244393e+00, -3.51031280e+00,\n",
       "       -2.07647443e+00,  3.84757566e+00, -1.37047100e+00,  3.10798144e+00,\n",
       "        1.85427582e+00,  2.64677620e+00,  2.91407895e+00,  1.09702253e+00,\n",
       "        2.37660706e-01, -1.69613910e+00, -1.05433559e+00, -2.70149374e+00,\n",
       "       -2.80772537e-01, -8.72292161e-01, -6.69785452e+00, -5.65361321e-01,\n",
       "        2.15227509e+00,  1.09966958e+00, -3.45239902e+00,  1.64096141e+00,\n",
       "        3.78716183e+00,  5.86368740e-01, -1.23299968e+00, -1.48228155e-02,\n",
       "        3.28913236e+00,  2.15989900e+00, -1.44449174e+00, -8.46745849e-01,\n",
       "        1.72222579e+00, -2.78640842e+00, -4.07873780e-01,  2.25198460e+00,\n",
       "        1.09722936e+00,  3.30250216e+00,  1.44260228e+00,  3.15709400e+00,\n",
       "        1.52797437e+00,  1.32918465e+00,  1.27841496e+00, -1.39789593e+00,\n",
       "        1.39123833e+00, -1.01381087e+00,  1.58517551e+00,  1.90182519e+00,\n",
       "        2.39947534e+00,  3.12105417e+00,  4.22406673e+00,  2.17621833e-01,\n",
       "       -2.55954885e+00,  3.83089781e+00, -3.57445702e-02,  3.75231862e+00,\n",
       "        2.45873141e+00, -1.05641639e+00, -1.22880650e+00,  2.47506762e+00,\n",
       "       -6.05974048e-02,  2.62503171e+00, -3.91822481e+00,  3.00047469e+00,\n",
       "        2.45650077e+00,  2.64131331e+00,  9.36405420e-01, -3.59240484e+00,\n",
       "        1.51050138e+00,  2.96743417e+00,  1.09908712e+00, -1.72188497e+00,\n",
       "        2.55123568e+00,  1.83605090e-01,  9.94507074e-01,  8.04107189e-02,\n",
       "        8.80465746e-01,  4.31808996e+00,  1.12896442e+00, -2.39936638e+00,\n",
       "        1.25997901e+00,  2.52842522e+00,  3.01478696e+00,  1.53910115e-01,\n",
       "       -2.57013738e-01, -3.21905828e+00, -9.69297111e-01,  4.20346409e-01,\n",
       "        3.13338208e+00,  2.56141210e+00, -1.73743463e+00,  3.01228786e+00,\n",
       "        1.70002532e+00,  7.69346416e-01, -2.76393032e+00,  2.26095414e+00,\n",
       "       -7.48716831e-01,  3.38855505e+00, -1.71647608e+00,  5.38790286e-01,\n",
       "        2.85141253e+00,  2.30479360e+00, -3.85356098e-01,  1.96061805e-01,\n",
       "        8.46237481e-01,  3.62230110e+00,  1.22556758e+00, -2.15147257e+00,\n",
       "       -1.53174675e+00, -8.15316319e-01,  2.64451671e+00,  3.89410686e+00,\n",
       "        4.44430685e+00, -9.69937325e-01,  6.55240834e-01,  5.26877344e-01,\n",
       "       -2.29291105e+00,  1.55043340e+00, -5.79703569e-01,  9.48862135e-01,\n",
       "        2.55941463e+00,  1.79853976e+00,  3.98136973e+00,  1.04708171e+00,\n",
       "        1.68882787e-01,  5.29867709e-01,  6.95362449e-01,  2.21775889e+00,\n",
       "       -2.63289666e+00,  2.12227678e+00, -9.90627229e-01, -1.18020570e+00,\n",
       "        2.91909790e+00,  7.19049037e-01,  1.86683297e-01,  1.14749241e+00,\n",
       "       -2.89312243e-01,  1.20840216e+00, -1.34038544e+00,  9.40891445e-01,\n",
       "        1.40618157e+00,  2.90975404e+00, -1.27725673e+00,  2.95466733e+00,\n",
       "        1.69890058e+00, -1.84055197e+00,  2.98171592e+00,  2.34743312e-01,\n",
       "       -2.41114879e+00,  2.64461368e-01, -2.25727344e+00,  1.50283349e+00,\n",
       "        2.85362458e+00, -8.81131217e-02,  1.05151117e+00, -1.06696451e+00,\n",
       "        4.72321892e+00, -1.80977201e+00, -6.36321962e-01,  6.87336400e-02,\n",
       "        1.20270729e-01, -8.93622100e-01,  9.39533472e-01,  2.09355116e+00,\n",
       "        4.06895876e-01,  1.31558335e+00, -6.32725209e-02, -6.51164651e-01,\n",
       "        2.09410954e+00,  1.44287634e+00, -4.40529175e-02, -1.38303280e+00,\n",
       "        3.26957464e+00,  4.48343945e+00,  3.13997340e+00, -1.93413985e+00,\n",
       "        1.24228135e-01,  2.08343649e+00,  5.70472598e-01,  3.28837776e+00,\n",
       "        3.14235640e+00, -3.13432634e-01,  4.26857829e-01,  1.85936868e+00,\n",
       "       -3.76486444e+00, -4.04889435e-01,  3.20373464e+00,  9.90861356e-01,\n",
       "       -9.42795157e-01,  1.83012557e+00,  1.12888348e+00, -6.01517677e-01,\n",
       "       -2.80080795e+00, -2.80386734e+00, -1.33754659e+00, -2.50142050e+00,\n",
       "        2.91312218e+00,  8.48609209e-01, -7.55240381e-01, -1.58688056e+00,\n",
       "        1.87435925e+00, -1.72931314e-01, -6.32729149e+00, -2.63801455e-01,\n",
       "        1.31248713e+00, -1.18434775e+00, -1.38976383e+00,  3.26622987e+00,\n",
       "       -1.78430274e-01, -2.35495538e-01,  2.06584835e+00,  3.67512703e+00,\n",
       "        2.98789650e-01,  3.19432259e+00,  1.30149305e-01, -1.20271420e+00,\n",
       "       -1.08324707e+00,  1.33068919e+00, -3.81891680e+00, -4.22326654e-01,\n",
       "        4.79055405e+00,  2.53153992e+00,  2.79279590e+00,  1.30104864e+00,\n",
       "        1.54622090e+00,  1.31219697e+00,  4.03702497e+00,  2.52910972e+00,\n",
       "        8.93550575e-01, -2.78388917e-01,  2.38527679e+00,  1.19748378e+00,\n",
       "        5.58122396e+00,  1.57758677e+00,  1.75363779e+00,  1.73632383e+00,\n",
       "        3.69392729e+00,  1.11645520e+00,  3.30919027e+00,  3.23317933e+00,\n",
       "       -1.65876472e+00, -5.41246235e-01, -2.61716080e+00, -2.07912135e+00,\n",
       "        1.17067230e+00, -6.18502140e-01,  4.40080613e-01,  1.46428251e+00,\n",
       "        2.05614042e+00,  2.58484674e+00,  4.37799066e-01, -1.88534462e+00,\n",
       "       -1.11712825e+00,  1.51265055e-01, -2.31144881e+00, -1.98297644e+00,\n",
       "        4.11866993e-01,  3.23753738e+00,  4.54753578e-01, -1.46978498e-01,\n",
       "        7.69098461e-01,  8.28041852e-01,  5.07843673e-01,  4.86734301e-01,\n",
       "       -2.78894424e-01,  1.80774021e+00,  7.95182168e-01,  1.36603308e+00,\n",
       "        8.71338695e-02, -1.58397710e+00, -8.27277541e-01,  4.00860697e-01,\n",
       "       -2.03618813e+00,  1.95191395e+00, -1.96155262e+00, -1.57526299e-01,\n",
       "        3.13149095e+00,  2.95999360e+00,  3.99687409e+00,  3.92491627e+00,\n",
       "        1.05602014e+00,  3.16113162e+00,  3.31877065e+00,  9.94039655e-01,\n",
       "       -1.68574834e+00,  1.26775217e+00,  6.08257055e-01, -1.33462059e+00,\n",
       "       -3.31102818e-01,  2.41278529e+00, -4.01225179e-01, -4.20765549e-01,\n",
       "       -1.01894999e+00, -2.29303098e+00,  2.26664448e+00,  2.04447246e+00,\n",
       "        3.56481528e+00, -9.37421396e-02, -1.44112492e+00,  4.72566366e+00,\n",
       "       -1.07604766e+00,  1.14665115e+00,  1.15393102e+00, -7.62721300e-02,\n",
       "        1.29304469e-01,  2.32984090e+00,  1.01136720e+00, -2.20866513e+00,\n",
       "        8.12932134e-01, -1.10466182e+00, -4.32316847e-02,  1.73612261e+00,\n",
       "        1.80603668e-01,  1.07855463e+00, -2.45701504e+00,  4.45124149e-01,\n",
       "        7.80361891e-02, -1.18932262e-01, -2.29704127e-01, -5.45344651e-01,\n",
       "       -1.13090920e+00, -3.89913607e+00, -3.21232724e+00, -2.11327314e+00,\n",
       "       -3.04997444e+00, -9.70500886e-01,  8.10341001e-01,  2.16110897e+00],\n",
       "      dtype=float32)"
      ]
     },
     "execution_count": 164,
     "metadata": {},
     "output_type": "execute_result"
    }
   ],
   "source": [
    "trt_outputs[0:][0] "
   ]
  },
  {
   "cell_type": "code",
   "execution_count": 54,
   "id": "1bb4292e",
   "metadata": {
    "scrolled": true
   },
   "outputs": [
    {
     "data": {
      "text/plain": [
       "[array([-1.83780634e+00,  1.11267281e+00,  1.33001983e+00,  6.84026659e-01,\n",
       "         1.87992597e+00,  3.03544497e+00,  2.35607076e+00, -4.77835506e-01,\n",
       "        -5.51684141e-01, -1.68703604e+00, -8.21623921e-01,  1.35264337e+00,\n",
       "         1.49944818e+00,  5.92964292e-01,  5.38729012e-01,  1.67636716e+00,\n",
       "         1.02014148e+00,  6.25939906e-01,  3.53781080e+00,  1.53281301e-01,\n",
       "         5.26170552e-01, -1.02307782e-01, -3.66636842e-01,  1.98492572e-01,\n",
       "        -7.22454786e-01, -1.34811616e+00,  2.23169073e-01,  8.66105974e-01,\n",
       "        -7.85946488e-01, -1.21605396e+00, -9.86493647e-01,  1.28093338e+00,\n",
       "        -2.17999625e+00, -4.76416647e-01,  1.35433987e-01, -2.03166342e+00,\n",
       "        -6.85697317e-01, -6.57868236e-02, -1.06951468e-01, -3.93141627e-01,\n",
       "         1.20132041e+00, -9.81076360e-01,  8.66410494e-01, -1.44313490e+00,\n",
       "         2.39185169e-01, -9.36252654e-01,  2.06716061e+00, -2.71192098e+00,\n",
       "        -4.70329762e-01, -2.00526094e+00, -3.69234920e-01, -2.60790348e+00,\n",
       "         4.34934497e-01, -4.58900005e-01, -5.31280816e-01, -2.37489402e-01,\n",
       "        -1.45453882e+00, -2.94936895e+00,  3.69033873e-01, -1.53301612e-01,\n",
       "         5.55688620e-01, -2.58080077e+00, -2.20130563e+00, -2.31538486e+00,\n",
       "        -1.10148382e+00,  1.05559528e+00, -1.47495544e+00, -9.36106503e-01,\n",
       "        -2.00632191e+00,  6.42819583e-01, -1.88612008e+00,  2.45414662e+00,\n",
       "        -1.57798600e+00,  3.37850899e-01, -4.85456467e-01,  1.62950301e+00,\n",
       "         5.22874475e-01,  1.42197239e+00,  3.76264453e+00,  3.68626952e+00,\n",
       "        -3.00776392e-01,  4.51424360e-01,  1.64479539e-02, -4.74974334e-01,\n",
       "         2.91676641e+00,  1.58107197e+00,  2.92435497e-01,  4.80313450e-01,\n",
       "         5.29220030e-02,  1.66596401e+00,  6.76234886e-02, -4.36202846e-02,\n",
       "         1.14471745e+00,  7.46962726e-01,  2.01857281e+00, -2.54900360e+00,\n",
       "         1.08444428e+00, -1.33679104e+00, -1.64401865e+00,  1.39810586e+00,\n",
       "        -1.53970695e+00, -4.08104134e+00, -1.56706989e+00,  2.18245164e-01,\n",
       "        -1.05848050e+00, -2.21386003e+00, -4.66346055e-01,  4.20356035e+00,\n",
       "         1.73286930e-01,  3.28747153e+00,  3.08720899e+00,  4.79708195e+00,\n",
       "         1.43441415e+00,  1.82865655e+00,  3.54665017e+00,  2.05295372e+00,\n",
       "        -1.27109456e+00,  3.03108037e-01,  9.18211102e-01, -1.48457992e+00,\n",
       "        -1.37700784e+00, -1.84554744e+00, -1.53419971e+00, -1.75408947e+00,\n",
       "        -7.18867183e-02, -1.02556980e+00,  1.27598256e-01,  2.13734116e-02,\n",
       "         2.52410918e-01, -1.94624221e+00, -2.66352582e+00, -1.21549118e+00,\n",
       "        -1.03844419e-01, -3.04552726e-02, -7.62020588e-01, -1.34663367e+00,\n",
       "        -1.24297976e+00, -9.79720891e-01,  6.00979507e-01, -1.74346220e+00,\n",
       "        -2.44913054e+00, -3.97406667e-01, -2.66042995e+00, -1.52306128e+00,\n",
       "        -9.50469017e-01,  1.45978880e+00, -1.16854519e-01,  7.20767558e-01,\n",
       "         1.53981848e-02,  8.91466618e-01, -2.96761751e-01, -9.37374830e-01,\n",
       "        -3.53611374e+00, -9.29119110e-01, -7.33788908e-01, -1.20587993e+00,\n",
       "        -4.20309353e+00, -2.39644814e+00, -2.66960478e+00, -2.14044094e+00,\n",
       "        -4.18370533e+00, -1.27079809e+00, -1.62916005e-01, -2.31245518e+00,\n",
       "        -1.21125698e+00, -2.96443772e+00, -2.59565878e+00, -5.69903421e+00,\n",
       "        -1.26209331e+00, -4.17619324e+00, -4.06600380e+00, -3.28814954e-01,\n",
       "        -2.49829578e+00, -2.50684381e+00, -1.18418860e+00, -3.88790679e+00,\n",
       "        -5.00982761e+00, -4.25519419e+00, -7.88651109e-01, -1.59234309e+00,\n",
       "        -1.89558780e+00, -2.55207920e+00, -8.81739557e-01, -1.90186071e+00,\n",
       "        -2.57933784e+00, -8.58642459e-01, -9.57950175e-01, -4.33461249e-01,\n",
       "        -4.24483585e+00, -1.43538129e+00, -2.46559787e+00, -1.78556132e+00,\n",
       "         4.19039845e-01, -1.92441750e+00, -2.91760135e+00,  1.02965856e+00,\n",
       "        -1.40990567e+00, -2.87436080e+00, -2.59688783e+00, -3.56810808e-01,\n",
       "        -2.86560464e+00, -1.16080272e+00, -1.04955494e+00,  7.67462134e-01,\n",
       "        -1.40439212e+00, -3.88239884e+00, -4.17960215e+00, -2.86531425e+00,\n",
       "        -1.51978266e+00, -2.27968311e+00, -2.19750094e+00, -7.80037403e-01,\n",
       "        -2.41089010e+00, -2.05656075e+00, -2.37061238e+00, -2.58305335e+00,\n",
       "        -2.21039009e+00, -3.00193161e-01, -2.47508979e+00, -4.56528693e-01,\n",
       "        -3.85472965e+00, -1.45450366e+00, -4.67962503e+00, -8.55644822e-01,\n",
       "        -3.20956373e+00, -1.39847541e+00, -4.05553722e+00, -1.95297587e+00,\n",
       "        -3.74632645e+00, -1.84386909e+00, -2.40136504e+00, -2.97052217e+00,\n",
       "        -2.35316086e+00, -4.12521076e+00, -2.04959273e+00, -1.75418329e+00,\n",
       "        -2.09721565e+00, -7.39258528e-01, -2.82232714e+00, -3.07975173e+00,\n",
       "        -3.12905502e+00, -3.55485964e+00, -7.39915788e-01, -2.18434358e+00,\n",
       "        -5.77658939e+00,  6.65894210e-01, -3.34050965e+00, -2.52189898e+00,\n",
       "        -1.03376663e+00, -2.10580826e+00, -1.28841984e+00, -7.98530161e-01,\n",
       "        -2.78304577e+00, -1.24949276e+00, -5.60949683e-01, -5.28513765e+00,\n",
       "        -2.92442036e+00, -2.91281652e+00, -1.36698246e+00, -4.49640423e-01,\n",
       "        -2.40160680e+00, -1.66429210e+00, -3.69064975e+00, -1.16893446e+00,\n",
       "        -1.29544628e+00, -5.51905334e-01, -1.31010699e+00, -2.87570715e+00,\n",
       "        -3.63907981e+00, -4.26144981e+00, -3.30388379e+00, -4.32652903e+00,\n",
       "        -1.99905598e+00, -2.40557742e+00, -3.27585340e+00, -2.73552370e+00,\n",
       "        -2.80883908e+00, -4.41588193e-01, -1.53930390e+00,  1.96307003e-01,\n",
       "        -9.07832563e-01,  1.44127452e+00,  1.78277016e+00,  1.03677011e+00,\n",
       "         2.44762373e+00,  1.69605386e+00, -3.22682214e+00, -1.87496984e+00,\n",
       "        -1.68567288e+00, -2.10187912e+00, -3.69129801e+00, -4.50760365e+00,\n",
       "        -2.85581779e+00, -7.96002924e-01, -2.74435353e+00, -2.36700749e+00,\n",
       "        -1.06774139e+00, -3.25394487e+00, -7.78291821e-01, -3.43290478e-01,\n",
       "        -1.66309810e+00,  4.47620153e+00,  5.05083084e-01,  1.54852533e+00,\n",
       "         8.05798352e-01, -1.97276145e-01,  1.53391147e+00,  1.80687463e+00,\n",
       "         2.86436677e+00,  1.14419329e+00,  4.27643871e+00,  4.51352417e-01,\n",
       "         3.94938022e-01,  2.09097290e+00,  9.99049008e-01,  2.20350242e+00,\n",
       "        -6.17185570e-02,  1.40590060e+00,  2.40481615e+00,  9.69135702e-01,\n",
       "         1.10309398e+00, -2.50620198e+00, -3.04057908e+00, -5.84343076e-03,\n",
       "        -1.72062683e+00, -1.30061495e+00, -6.23555720e-01,  1.02920735e+00,\n",
       "         1.00248694e+00,  4.04936612e-01,  5.51331937e-01,  1.00788879e+00,\n",
       "         6.92078650e-01,  1.49821818e+00, -3.14177275e-01, -3.72261137e-01,\n",
       "         2.54989326e-01, -8.25492620e-01, -1.52657712e+00, -3.57220602e+00,\n",
       "        -3.14000106e+00, -4.41990566e+00, -4.27584839e+00, -3.79428768e+00,\n",
       "        -3.45655227e+00, -4.91776133e+00, -4.48592949e+00, -2.87581778e+00,\n",
       "        -3.37151241e+00, -4.13012266e+00, -3.21113563e+00, -2.74407387e+00,\n",
       "        -3.30989432e+00, -1.50879323e+00, -2.22783780e+00, -1.85468090e+00,\n",
       "         1.18306112e+00, -1.07428837e+00,  2.12427273e-01,  1.20281458e-01,\n",
       "        -3.09290409e+00,  1.07330906e+00,  5.84778666e-01,  9.82563198e-01,\n",
       "        -2.78272438e+00, -2.95051146e+00, -2.68568516e+00, -2.11691165e+00,\n",
       "        -3.03037620e+00, -3.20620322e+00, -3.44747138e+00, -4.58611631e+00,\n",
       "        -2.73170304e+00, -1.87820339e+00, -3.49532008e+00, -4.03348207e+00,\n",
       "        -4.04487133e+00, -1.43610299e+00, -3.27213740e+00, -4.05530119e+00,\n",
       "        -2.07748914e+00, -3.18703914e+00, -2.41756797e+00, -1.43511987e+00,\n",
       "        -2.70534348e+00, -4.80263233e+00, -3.07710767e+00, -3.06088233e+00,\n",
       "        -1.89867318e+00, -1.13020885e+00,  8.82297277e-01,  2.85543293e-01,\n",
       "        -3.32113624e-01,  1.11890972e+00, -2.36224818e+00, -3.60450745e-01,\n",
       "        -3.24789196e-01,  5.37527561e-01,  1.66501379e+00,  1.32233694e-01,\n",
       "        -3.00194192e+00, -2.66803056e-01,  1.61287832e+00, -1.24809957e+00,\n",
       "        -5.85004508e-01,  6.19107246e-01, -2.07532024e+00, -2.45340157e+00,\n",
       "        -4.05835676e+00,  2.90439963e+00, -1.80960131e+00,  2.74860239e+00,\n",
       "         2.71811295e+00,  5.43334544e-01,  6.36496544e-01, -6.99439943e-01,\n",
       "         9.72241044e-01,  3.41923833e+00,  4.56232691e+00,  1.88133681e+00,\n",
       "         6.57426596e-01,  1.67007196e+00, -2.89635897e+00, -1.34786141e+00,\n",
       "        -1.25769961e+00,  5.39495230e-01,  2.20403671e+00, -2.96370089e-01,\n",
       "        -3.48134905e-01,  1.45471382e+00, -9.08891201e-01, -1.53600109e+00,\n",
       "         1.12107968e+00,  2.05912757e+00,  1.41618991e+00,  8.12097251e-01,\n",
       "        -8.77188027e-01,  1.69781089e+00,  1.23821819e+00, -3.87154770e+00,\n",
       "         2.48613811e+00,  2.42260456e+00,  7.77598202e-01,  3.30974746e+00,\n",
       "        -2.39533138e+00, -1.04037750e+00,  6.72833347e+00, -4.07501429e-01,\n",
       "        -6.65382817e-02, -2.58128834e+00, -3.37748432e+00,  1.10910165e+00,\n",
       "         1.65137804e+00,  1.12049997e+00, -4.73246098e-01,  3.69229007e+00,\n",
       "         4.72237974e-01,  2.65016198e+00,  3.33719969e+00,  5.38915992e-01,\n",
       "        -5.75542524e-02,  1.54654717e+00,  3.73020911e+00,  1.66669381e+00,\n",
       "         1.39253199e+00, -1.83254886e+00, -3.70274663e+00, -2.06609201e+00,\n",
       "         1.84950888e-01,  4.91319686e-01,  3.74669003e+00, -4.58362520e-01,\n",
       "        -1.04143715e+00,  2.78192616e+00,  8.14305604e-01, -1.07088014e-01,\n",
       "        -4.62829256e+00, -3.42527151e-01,  3.00860763e+00, -2.46532857e-01,\n",
       "         1.75589454e+00,  1.28528166e+00,  1.19955778e+00, -1.56276476e+00,\n",
       "        -6.91193044e-01,  1.01504672e+00, -7.13512301e-02,  1.00925314e+00,\n",
       "         4.24043226e+00,  1.04815614e+00,  4.18039656e+00, -4.64511603e-01,\n",
       "         1.28260112e+00, -4.17301744e-01,  1.12609339e+00,  2.45431751e-01,\n",
       "         5.89239836e-01,  9.48588431e-01,  1.75547314e+00,  3.30778170e+00,\n",
       "        -2.63388824e+00,  1.09273505e+00, -1.47677958e+00,  1.63147855e+00,\n",
       "         2.48477483e+00,  2.20157743e+00,  1.92524707e+00,  1.64537221e-01,\n",
       "         2.25986743e+00, -8.47763181e-01, -1.56334758e+00, -1.07892132e+00,\n",
       "         3.78969121e+00,  7.50914991e-01, -4.22607958e-01,  1.26520288e+00,\n",
       "        -4.19315279e-01,  2.78306675e+00,  4.16308373e-01,  6.46198869e-01,\n",
       "         1.35047242e-01,  9.89782870e-01,  1.19770336e+00,  7.00878859e-01,\n",
       "         1.16352344e+00, -1.34066415e+00, -2.37952575e-01,  1.35811841e+00,\n",
       "         1.81274593e+00, -5.58283806e-01,  2.60848379e+00,  5.08922458e-01,\n",
       "        -7.23142922e-01,  1.09500527e+00,  3.50807476e+00, -4.75148201e+00,\n",
       "        -2.25233257e-01, -3.80584192e+00,  4.16822577e+00,  4.46247816e+00,\n",
       "         1.89675975e+00,  2.92085111e-01,  3.11074471e+00,  6.45131841e-02,\n",
       "        -4.85494167e-01,  1.14722121e+00, -2.95471668e-01, -4.50858879e+00,\n",
       "        -8.87511134e-01,  5.94664383e+00, -6.19661808e-01,  3.49806160e-01,\n",
       "         3.42232561e+00,  4.45426613e-01,  5.13907313e-01, -3.76906604e-01,\n",
       "         2.09625244e+00,  3.40257835e+00,  1.19946611e+00,  1.36774552e+00,\n",
       "         9.01092291e-01, -4.00603145e-01,  3.90149522e+00,  3.04121327e+00,\n",
       "        -2.30600452e+00, -1.20620012e+00, -6.32802010e-01,  2.61875105e+00,\n",
       "        -9.60477889e-01, -3.13064432e+00,  5.79282761e-01, -8.66239727e-01,\n",
       "         2.00526953e+00, -3.89317560e+00,  4.02629757e+00, -3.14288783e+00,\n",
       "        -3.16215014e+00,  1.20644796e+00,  1.14562798e+00,  3.91713709e-01,\n",
       "         1.21893787e+00,  3.15077376e+00, -1.21705484e+00,  8.01470459e-01,\n",
       "         1.80977654e+00,  1.13182676e+00, -3.40112138e+00,  4.33851194e+00,\n",
       "         2.25862885e+00,  1.05946386e+00,  2.64542401e-01,  3.01059985e+00,\n",
       "         8.59753311e-01,  2.43690044e-01, -2.31996942e+00, -4.55734283e-01,\n",
       "         1.84435344e+00,  1.06415069e+00,  2.30662608e+00,  3.27626276e+00,\n",
       "         4.12317085e+00,  8.96637917e-01, -1.39483345e+00, -6.98099422e+00,\n",
       "         1.62147546e+00,  1.21183860e+00,  2.81049132e+00,  1.12073970e+00,\n",
       "         1.78880179e+00, -2.74536562e+00,  1.27291334e+00,  2.40344644e+00,\n",
       "        -2.92474413e+00,  2.93122268e+00, -1.50491929e+00, -4.72901285e-01,\n",
       "         2.22307873e+00,  1.07915771e+00,  4.12389421e+00,  4.21473980e+00,\n",
       "         3.65751457e+00, -1.19206679e+00,  2.56223822e+00,  5.43308640e+00,\n",
       "         5.27849019e-01, -1.81709111e+00,  4.06752443e+00, -4.47010183e+00,\n",
       "        -2.56719470e-01,  2.17897010e+00, -1.88057780e+00,  1.29396307e+00,\n",
       "         3.48229671e+00,  2.53082657e+00, -2.06855559e+00,  1.68931091e+00,\n",
       "         2.31013274e+00,  1.29669940e+00,  7.65093565e-02, -1.27686486e-01,\n",
       "         2.68847132e+00,  8.19633842e-01,  1.05424297e+00,  4.85109210e-01,\n",
       "         6.76936817e+00, -3.30206633e-01,  8.62854362e-01,  1.90863180e+00,\n",
       "         1.22264194e+00,  2.88434768e+00,  2.89868450e+00,  2.10833240e+00,\n",
       "        -2.10268044e+00, -9.57197905e-01, -3.43210483e+00,  1.97720170e+00,\n",
       "        -3.17520785e+00,  3.25197840e+00, -2.07149968e-01,  1.90402210e+00,\n",
       "        -1.20661545e+00, -3.41539454e+00,  1.97524571e+00, -2.23178744e+00,\n",
       "         3.40609622e+00, -2.08117414e+00,  5.30965686e-01, -1.54545203e-01,\n",
       "         1.71450436e+00,  1.73989129e+00, -1.74173152e+00, -4.18342304e+00,\n",
       "        -1.53641844e+00,  3.53219485e+00,  2.76557827e+00, -3.81696486e+00,\n",
       "        -2.19391608e+00,  3.95322943e+00, -1.12698638e+00,  3.30116725e+00,\n",
       "         1.68640184e+00,  3.22865415e+00,  3.10278153e+00,  1.16012537e+00,\n",
       "         3.15235168e-01, -1.83578277e+00, -1.08676219e+00, -2.88080454e+00,\n",
       "         6.77756369e-02, -1.29524469e+00, -7.56619596e+00, -4.12703961e-01,\n",
       "         2.49209309e+00,  1.63280416e+00, -3.89239621e+00,  1.45062721e+00,\n",
       "         4.09183979e+00,  3.44889373e-01, -8.35087538e-01,  1.13972373e-01,\n",
       "         3.53927350e+00,  2.60603762e+00, -1.25772595e+00, -7.58866072e-01,\n",
       "         1.64741814e+00, -2.79444981e+00, -3.85079086e-01,  2.28217530e+00,\n",
       "         1.43715429e+00,  3.29949570e+00,  1.54616380e+00,  3.66459322e+00,\n",
       "         2.16982341e+00,  1.68888831e+00,  1.43224657e+00, -1.04620719e+00,\n",
       "         1.41523039e+00, -1.02071321e+00,  1.48545635e+00,  2.17816305e+00,\n",
       "         2.87636256e+00,  2.98096943e+00,  5.07941818e+00,  1.19467646e-01,\n",
       "        -2.43849850e+00,  4.43922186e+00,  5.29488325e-01,  4.11538887e+00,\n",
       "         2.65239263e+00, -4.66829687e-01, -1.51609576e+00,  2.58469129e+00,\n",
       "        -3.79391760e-02,  2.86962008e+00, -3.82190800e+00,  2.83767295e+00,\n",
       "         3.81655717e+00,  3.11336493e+00,  1.05035996e+00, -3.77240753e+00,\n",
       "         1.72496092e+00,  3.04728699e+00,  1.47047734e+00, -1.65283561e+00,\n",
       "         3.28402305e+00,  2.20159426e-01,  1.53323627e+00,  4.17891026e-01,\n",
       "         8.74476731e-01,  4.49009609e+00,  1.14524245e+00, -2.69258499e+00,\n",
       "         1.19398916e+00,  2.73317122e+00,  3.09750366e+00,  1.00672349e-01,\n",
       "        -5.49661100e-01, -3.16821790e+00, -1.13582420e+00,  2.14112982e-01,\n",
       "         3.85402608e+00,  2.53852677e+00, -1.37235045e+00,  2.89157867e+00,\n",
       "         1.90303922e+00,  1.19054973e+00, -2.79480290e+00,  2.66920948e+00,\n",
       "        -8.37808728e-01,  3.68224645e+00, -2.09694624e+00,  5.95082521e-01,\n",
       "         2.65573144e+00,  2.99264312e+00, -1.01144719e+00,  2.29228839e-01,\n",
       "         8.54321182e-01,  3.39271450e+00,  1.65282607e+00, -1.96248698e+00,\n",
       "        -1.40144360e+00, -7.54295170e-01,  3.35837197e+00,  4.06469631e+00,\n",
       "         4.75030088e+00, -1.21288919e+00,  6.36157095e-01,  7.04261661e-01,\n",
       "        -2.55501056e+00,  1.99178243e+00, -1.48949176e-01,  1.33470345e+00,\n",
       "         2.67737651e+00,  2.16123366e+00,  4.04369164e+00,  1.33066857e+00,\n",
       "        -8.23640600e-02,  5.97488523e-01,  6.91650152e-01,  2.50657511e+00,\n",
       "        -2.31543088e+00,  2.58652520e+00, -1.07418489e+00, -1.08242834e+00,\n",
       "         3.20624208e+00,  5.58364034e-01,  2.06116647e-01,  1.38751030e+00,\n",
       "        -6.14943266e-01,  1.92413568e+00, -1.03090167e+00,  7.79470980e-01,\n",
       "         1.69543791e+00,  3.55856943e+00, -9.26127732e-01,  3.17792964e+00,\n",
       "         1.37793660e+00, -1.94465661e+00,  3.20459843e+00, -6.49261847e-02,\n",
       "        -2.66247869e+00,  1.18605360e-01, -2.46543670e+00,  1.62621725e+00,\n",
       "         2.77393174e+00, -9.96056721e-02,  1.05476701e+00, -8.75918925e-01,\n",
       "         5.01907253e+00, -1.73195076e+00, -8.59233961e-02,  2.84658104e-01,\n",
       "         2.33572215e-01, -9.88660216e-01,  5.29267311e-01,  1.98917401e+00,\n",
       "         3.41064334e-01,  1.14503312e+00,  2.60721594e-01, -6.61219895e-01,\n",
       "         2.26114774e+00,  1.47826684e+00,  1.77452162e-01, -1.07286215e+00,\n",
       "         3.68549538e+00,  4.82566977e+00,  3.44247365e+00, -1.93042767e+00,\n",
       "         4.40349095e-02,  2.41803336e+00,  1.82467118e-01,  3.93127775e+00,\n",
       "         3.46667600e+00, -2.64483750e-01,  3.51112336e-01,  1.97084653e+00,\n",
       "        -4.22421551e+00, -4.25981849e-01,  3.48110938e+00,  1.25322688e+00,\n",
       "        -8.95285130e-01,  2.13128066e+00,  6.64170265e-01, -7.63042331e-01,\n",
       "        -2.87349987e+00, -2.92679596e+00, -1.57718182e+00, -2.47052741e+00,\n",
       "         4.04288483e+00,  5.41218877e-01, -8.12942684e-01, -1.49640620e+00,\n",
       "         2.20874834e+00, -3.11920643e-01, -6.42250443e+00, -3.68961483e-01,\n",
       "         1.98000455e+00, -1.28673816e+00, -1.27499962e+00,  3.65315104e+00,\n",
       "        -5.44667900e-01, -3.23541552e-01,  2.11243486e+00,  4.08395004e+00,\n",
       "         1.81078747e-01,  3.32014275e+00,  4.48702753e-01, -1.20895231e+00,\n",
       "        -1.08145380e+00,  1.56230128e+00, -4.17712021e+00, -3.58924598e-01,\n",
       "         5.06551409e+00,  2.30021286e+00,  3.02753639e+00,  1.39672530e+00,\n",
       "         1.76463366e+00,  1.66101098e+00,  4.32094765e+00,  2.97295213e+00,\n",
       "         1.44271863e+00,  1.33473516e-01,  2.51375651e+00,  1.04464483e+00,\n",
       "         5.72661161e+00,  1.95656931e+00,  1.19304419e+00,  2.17638493e+00,\n",
       "         4.01461124e+00,  1.70512629e+00,  3.79727411e+00,  3.29925895e+00,\n",
       "        -1.92411113e+00, -3.18852425e-01, -2.33128548e+00, -2.08880758e+00,\n",
       "         1.44048047e+00, -4.83866334e-01,  3.75146896e-01,  1.70874739e+00,\n",
       "         2.22363281e+00,  2.78880143e+00,  8.50193441e-01, -1.02250922e+00,\n",
       "        -5.84753275e-01,  6.93817258e-01, -1.96138763e+00, -1.74855816e+00,\n",
       "         9.28760588e-01,  3.53761268e+00,  8.72095048e-01,  2.37323806e-01,\n",
       "         8.25572431e-01,  1.46584260e+00,  6.11380458e-01,  1.30661881e+00,\n",
       "         3.78518343e-01,  2.59596848e+00,  1.18762684e+00,  1.98307776e+00,\n",
       "         4.43194956e-01, -1.09827065e+00, -2.49640852e-01,  1.20137787e+00,\n",
       "        -2.07344508e+00,  2.52047944e+00, -2.08259368e+00,  2.00627014e-01,\n",
       "         4.08840179e+00,  3.22673392e+00,  4.53736210e+00,  4.48152542e+00,\n",
       "         1.31446660e+00,  3.48053908e+00,  4.03765869e+00,  8.75627160e-01,\n",
       "        -1.61861420e+00,  1.35890090e+00,  9.19820845e-01, -9.40940738e-01,\n",
       "         1.10114522e-01,  3.29001927e+00,  1.53758317e-01, -2.02212512e-01,\n",
       "        -4.77011085e-01, -1.87299120e+00,  2.53198457e+00,  2.69792891e+00,\n",
       "         4.26362228e+00,  3.90433669e-01, -1.16177642e+00,  5.05762291e+00,\n",
       "        -1.07540798e+00,  1.26738000e+00,  1.32142198e+00,  2.48615980e-01,\n",
       "         1.98853016e-02,  2.48771429e+00,  1.37371087e+00, -1.97153139e+00,\n",
       "         5.02184093e-01, -9.11438048e-01, -3.26772779e-01,  2.01130772e+00,\n",
       "         1.67458102e-01,  9.67054009e-01, -3.07071805e+00,  6.90172136e-01,\n",
       "         3.83306444e-01,  1.41413078e-01,  2.00164482e-01, -7.92527258e-01,\n",
       "        -1.18276322e+00, -4.00994730e+00, -3.91428828e+00, -2.31439805e+00,\n",
       "        -2.90848184e+00, -1.11767685e+00,  8.97372782e-01,  2.32099962e+00],\n",
       "       dtype=float32)]"
      ]
     },
     "execution_count": 54,
     "metadata": {},
     "output_type": "execute_result"
    }
   ],
   "source": [
    "trt_outputs"
   ]
  },
  {
   "cell_type": "code",
   "execution_count": 55,
   "id": "616402d1",
   "metadata": {},
   "outputs": [
    {
     "name": "stdout",
     "output_type": "stream",
     "text": [
      "[07/04/2022-03:05:12] [TRT] [W] TensorRT was linked against cuDNN 8.4.1 but loaded cuDNN 8.4.0\n",
      "(1, 3, 224, 224)\n",
      "[07/04/2022-03:05:12] [TRT] [W] TensorRT was linked against cuDNN 8.4.1 but loaded cuDNN 8.4.0\n",
      "1\n",
      "150528\n",
      "<class 'numpy.float32'>\n",
      "150528\n",
      "140177481814016\n",
      "(1, 1000)\n",
      "1\n",
      "1000\n",
      "<class 'numpy.float32'>\n",
      "1000\n",
      "140177483397120\n",
      "[07/04/2022-03:05:12] [TRT] [W] The getMaxBatchSize() function should not be used with an engine built from a network created with NetworkDefinitionCreationFlag::kEXPLICIT_BATCH flag. This function will always return 1.\n",
      "[07/04/2022-03:05:12] [TRT] [W] The getMaxBatchSize() function should not be used with an engine built from a network created with NetworkDefinitionCreationFlag::kEXPLICIT_BATCH flag. This function will always return 1.\n",
      "[07/04/2022-03:05:12] [TRT] [W] The getMaxBatchSize() function should not be used with an engine built from a network created with NetworkDefinitionCreationFlag::kEXPLICIT_BATCH flag. This function will always return 1.\n",
      "[07/04/2022-03:05:12] [TRT] [W] The getMaxBatchSize() function should not be used with an engine built from a network created with NetworkDefinitionCreationFlag::kEXPLICIT_BATCH flag. This function will always return 1.\n"
     ]
    },
    {
     "name": "stderr",
     "output_type": "stream",
     "text": [
      "/tmp/ipykernel_42726/4032073572.py:42: DeprecationWarning: Use network created with NetworkDefinitionCreationFlag::EXPLICIT_BATCH flag instead.\n",
      "  print(engine.max_batch_size)\n",
      "/tmp/ipykernel_42726/4032073572.py:43: DeprecationWarning: Use network created with NetworkDefinitionCreationFlag::EXPLICIT_BATCH flag instead.\n",
      "  size = trt.volume(engine.get_binding_shape(binding)) * engine.max_batch_size\n"
     ]
    }
   ],
   "source": [
    "# 싱글 thread 에서 처리해야함. https://forums.developer.nvidia.com/t/tensorrt-do-inference-error/77055/3\n",
    "\n",
    "import tensorrt as trt\n",
    "import pycuda.driver as cuda\n",
    "import pycuda.autoinit # https://forums.developer.nvidia.com/t/logicerror-explicit-context-dependent-failed-invalid-device-context-no-currently-active-context/64149\n",
    "import torch\n",
    "import numpy as np\n",
    "\n",
    "#onnxModelPath = '/datadrive/tensorrt/onnx_models/mobilenetv2-7.onnx'\n",
    "tensorrt_file_name = '/datadrive/tensorrt/mobilenet.trt'\n",
    "\n",
    "# create builder <- optimization profile, Takes a network in TensorRT and generates an engine that is optimized for the target platform. \n",
    "TRT_LOGGER = trt.Logger(trt.Logger.WARNING)\n",
    "trt_runtime = trt.Runtime(TRT_LOGGER)\n",
    "\n",
    "EXPLICIT_BATCH = 1 << (int)(trt.NetworkDefinitionCreationFlag.EXPLICIT_BATCH)\n",
    "\n",
    "with open(tensorrt_file_name, 'rb') as f:\n",
    "    engine_data = f.read()\n",
    "engine = trt_runtime.deserialize_cuda_engine(engine_data)\n",
    "\n",
    "\n",
    "class HostDeviceMem(object):\n",
    "    def __init__(self, host_mem, device_mem):\n",
    "        self.host = host_mem\n",
    "        self.device = device_mem\n",
    "\n",
    "    def __str__(self):\n",
    "        return \"Host:\\n\" + str(self.host) + \"\\nDevice:\\n\" + str(self.device)\n",
    "\n",
    "    def __repr__(self):\n",
    "        return self.__str__()\n",
    "    \n",
    "inputs = []\n",
    "outputs = []\n",
    "bindings = []\n",
    "stream = cuda.Stream()\n",
    "context = engine.create_execution_context()\n",
    "\n",
    "for binding in engine:\n",
    "    print(engine.get_binding_shape(binding))\n",
    "    print(engine.max_batch_size)\n",
    "    size = trt.volume(engine.get_binding_shape(binding)) * engine.max_batch_size\n",
    "    print(size)\n",
    "    dtype = trt.nptype(engine.get_binding_dtype(binding)) #float 32 안됨\n",
    "    print(dtype)\n",
    "    host_mem = cuda.pagelocked_empty(size, dtype)\n",
    "    print(len(host_mem))\n",
    "    device_mem = cuda.mem_alloc(host_mem.nbytes)\n",
    "    print(int(device_mem))\n",
    "    bindings.append(int(device_mem))\n",
    "    # Append to the appropriate list.\n",
    "    if engine.binding_is_input(binding):\n",
    "        inputs.append(HostDeviceMem(host_mem, device_mem))\n",
    "    else:\n",
    "        outputs.append(HostDeviceMem(host_mem, device_mem))\n",
    "       \n",
    "\n",
    "device = torch.device('cuda:0') if torch.cuda.is_available() else torch.device('cpu')\n",
    "def to_numpy(tensor):\n",
    "    return tensor.detach().cpu().numpy() if tensor.requires_grad else tensor.cpu().numpy()\n",
    "\n",
    "\n",
    "input_data = torch.randn(1,3, 224, 224).to(device)\n",
    "input_data = to_numpy(input_data)\n",
    "\n",
    "for input in inputs:\n",
    "    np.copyto(input.host,np.ravel(input_data))\n",
    "\n",
    "# This function is generalized for multiple inputs/outputs for full dimension networks.\n",
    "# inputs and outputs are expected to be lists of HostDeviceMem objects.\n",
    "def do_inference_v2(context, bindings, inputs, outputs, stream):\n",
    "    # Transfer input data to the GPU.\n",
    "    [cuda.memcpy_htod_async(inp.device, inp.host, stream) for inp in inputs]\n",
    "    # Run inference.\n",
    "    context.execute_async_v2(bindings=bindings, stream_handle=stream.handle)\n",
    "    # Transfer predictions back from the GPU.\n",
    "    [cuda.memcpy_dtoh_async(out.host, out.device, stream) for out in outputs]\n",
    "    # Synchronize the stream\n",
    "    stream.synchronize()\n",
    "    # Return only the host outputs.\n",
    "    return [out.host for out in outputs]\n",
    "\n",
    "trt_outputs = do_inference_v2(\n",
    "                        context=context,\n",
    "                        bindings=bindings,\n",
    "                        inputs=inputs,\n",
    "                        outputs=outputs,\n",
    "                        stream=stream)"
   ]
  },
  {
   "cell_type": "code",
   "execution_count": 59,
   "id": "94339b43",
   "metadata": {},
   "outputs": [
    {
     "data": {
      "text/plain": [
       "1000"
      ]
     },
     "execution_count": 59,
     "metadata": {},
     "output_type": "execute_result"
    }
   ],
   "source": [
    "len(trt_outputs[0])"
   ]
  },
  {
   "cell_type": "code",
   "execution_count": 79,
   "id": "0253fd9b",
   "metadata": {},
   "outputs": [
    {
     "data": {
      "text/plain": [
       "(1, 1000)"
      ]
     },
     "execution_count": 79,
     "metadata": {},
     "output_type": "execute_result"
    }
   ],
   "source": [
    "trt_outputs[0][np.newaxis,:].shape"
   ]
  },
  {
   "cell_type": "code",
   "execution_count": 122,
   "id": "39244b02",
   "metadata": {},
   "outputs": [
    {
     "name": "stdout",
     "output_type": "stream",
     "text": [
      "[[ True  True  True  True  True]\n",
      " [ True  True  True False  True]]\n"
     ]
    }
   ],
   "source": [
    "import numpy as np\n",
    "\n",
    "a1 = np.array([[1,2,3,4,5],[1,2,4,6,7]])\n",
    "a2 = np.array([[1,2,3,4,5],[1,2.01,4,5,7]])\n",
    "a1.shape\n",
    "#a3 = np.array([1,3,4.001,5,7])\n",
    "print(np.isclose(a1,a2,atol=0.01))\n",
    "res = np.isclose(a1,a2,atol=0.01)\n",
    "#print(np.isclose(a3,a2))"
   ]
  },
  {
   "cell_type": "code",
   "execution_count": 134,
   "id": "522d7957",
   "metadata": {},
   "outputs": [
    {
     "data": {
      "text/plain": [
       "(2, 5)"
      ]
     },
     "execution_count": 134,
     "metadata": {},
     "output_type": "execute_result"
    }
   ],
   "source": [
    "res.shape"
   ]
  },
  {
   "cell_type": "code",
   "execution_count": 102,
   "id": "0aebeb49",
   "metadata": {},
   "outputs": [
    {
     "name": "stdout",
     "output_type": "stream",
     "text": [
      "[ True  True  True False  True]\n"
     ]
    }
   ],
   "source": [
    "for r in res:\n",
    "    print(r)"
   ]
  },
  {
   "cell_type": "code",
   "execution_count": 103,
   "id": "80b68ae5",
   "metadata": {},
   "outputs": [
    {
     "data": {
      "text/plain": [
       "4"
      ]
     },
     "execution_count": 103,
     "metadata": {},
     "output_type": "execute_result"
    }
   ],
   "source": [
    "(res == True).sum()"
   ]
  },
  {
   "cell_type": "code",
   "execution_count": 104,
   "id": "88acee2a",
   "metadata": {},
   "outputs": [
    {
     "data": {
      "text/plain": [
       "1"
      ]
     },
     "execution_count": 104,
     "metadata": {},
     "output_type": "execute_result"
    }
   ],
   "source": [
    "(res == False).sum()"
   ]
  },
  {
   "cell_type": "code",
   "execution_count": 107,
   "id": "2f21a6a0",
   "metadata": {},
   "outputs": [
    {
     "data": {
      "text/plain": [
       "5"
      ]
     },
     "execution_count": 107,
     "metadata": {},
     "output_type": "execute_result"
    }
   ],
   "source": [
    "# 전체 원소의 개수\n",
    "np.size(res)"
   ]
  },
  {
   "cell_type": "code",
   "execution_count": 108,
   "id": "3c87345c",
   "metadata": {},
   "outputs": [
    {
     "data": {
      "text/plain": [
       "0.8"
      ]
     },
     "execution_count": 108,
     "metadata": {},
     "output_type": "execute_result"
    }
   ],
   "source": [
    "#이렇게 반환값 주면 될듯\n",
    "(res == True).sum() / np.size(res)"
   ]
  },
  {
   "cell_type": "code",
   "execution_count": 137,
   "id": "a9aeb139",
   "metadata": {},
   "outputs": [],
   "source": [
    "max_value = abs(a1-a2).max()"
   ]
  },
  {
   "cell_type": "code",
   "execution_count": 138,
   "id": "10cc3bc2",
   "metadata": {},
   "outputs": [
    {
     "data": {
      "text/plain": [
       "1.0"
      ]
     },
     "execution_count": 138,
     "metadata": {},
     "output_type": "execute_result"
    }
   ],
   "source": [
    "max_value"
   ]
  },
  {
   "cell_type": "code",
   "execution_count": 143,
   "id": "70015ac9",
   "metadata": {},
   "outputs": [],
   "source": [
    "max_pos = np.where(abs(a1-a2) == max_value)"
   ]
  },
  {
   "cell_type": "code",
   "execution_count": 144,
   "id": "7a06c972",
   "metadata": {},
   "outputs": [
    {
     "data": {
      "text/plain": [
       "(array([1]), array([3]))"
      ]
     },
     "execution_count": 144,
     "metadata": {},
     "output_type": "execute_result"
    }
   ],
   "source": [
    "max_pos"
   ]
  },
  {
   "cell_type": "code",
   "execution_count": 145,
   "id": "56e9d0c8",
   "metadata": {},
   "outputs": [
    {
     "data": {
      "text/plain": [
       "(1, 3)"
      ]
     },
     "execution_count": 145,
     "metadata": {},
     "output_type": "execute_result"
    }
   ],
   "source": [
    "max_pos[0][0],max_pos[1][0]"
   ]
  },
  {
   "cell_type": "code",
   "execution_count": 148,
   "id": "cd82307c",
   "metadata": {},
   "outputs": [
    {
     "data": {
      "text/plain": [
       "0"
      ]
     },
     "execution_count": 148,
     "metadata": {},
     "output_type": "execute_result"
    }
   ],
   "source": [
    "(int)(trt.NetworkDefinitionCreationFlag.EXPLICIT_BATCH)"
   ]
  },
  {
   "cell_type": "code",
   "execution_count": 131,
   "id": "1121c9fb",
   "metadata": {},
   "outputs": [
    {
     "data": {
      "text/plain": [
       "8"
      ]
     },
     "execution_count": 131,
     "metadata": {},
     "output_type": "execute_result"
    }
   ],
   "source": [
    "abs(a1-a2).argmax()"
   ]
  },
  {
   "cell_type": "code",
   "execution_count": 136,
   "id": "ebbe6744",
   "metadata": {},
   "outputs": [
    {
     "data": {
      "text/plain": [
       "5"
      ]
     },
     "execution_count": 136,
     "metadata": {},
     "output_type": "execute_result"
    }
   ],
   "source": [
    "a1.shape[1]"
   ]
  },
  {
   "cell_type": "code",
   "execution_count": null,
   "id": "0960b291",
   "metadata": {},
   "outputs": [],
   "source": [
    "(2,3)"
   ]
  }
 ],
 "metadata": {
  "kernelspec": {
   "display_name": "Python 3 (ipykernel)",
   "language": "python",
   "name": "python3"
  },
  "language_info": {
   "codemirror_mode": {
    "name": "ipython",
    "version": 3
   },
   "file_extension": ".py",
   "mimetype": "text/x-python",
   "name": "python",
   "nbconvert_exporter": "python",
   "pygments_lexer": "ipython3",
   "version": "3.8.10"
  }
 },
 "nbformat": 4,
 "nbformat_minor": 5
}
